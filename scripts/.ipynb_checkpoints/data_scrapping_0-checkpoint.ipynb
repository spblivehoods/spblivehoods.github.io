{
 "cells": [
  {
   "cell_type": "code",
   "execution_count": 1,
   "metadata": {},
   "outputs": [],
   "source": [
    "#импорт\n",
    "import pandas as pd\n",
    "import requests\n",
    "import json\n",
    "import time\n",
    "from math import pi,cos\n",
    "import vk\n",
    "import collections\n",
    "import os\n",
    "import geopandas as gpd\n",
    "from shapely.geometry import Point\n",
    "import seaborn as sns\n",
    "\n",
    "import settings\n",
    "#vk_auth.py\n",
    "#auth = {\"id_app\":'' , \"login\":'', \"password\":''}\n",
    "\n",
    "session = vk.AuthSession(settings.vk_auth['id_app'], settings.vk_auth['login'], settings.vk_auth['password'])\n",
    "vk_api = vk.API(session, v='5.85', timeout=10)\n",
    "\n",
    "pd.set_option('display.max_columns', 500)\n",
    "%matplotlib inline"
   ]
  },
  {
   "cell_type": "code",
   "execution_count": 2,
   "metadata": {},
   "outputs": [],
   "source": [
    "#logger\n",
    "#TODO дополнительно писать лог в файл\n",
    "#Вывести в отдельный модуль\n",
    "def log_progress(sequence, every=None, size=None):\n",
    "    from ipywidgets import IntProgress, HTML, VBox\n",
    "    from IPython.display import display\n",
    "    \n",
    "    is_iterator = False\n",
    "    if size is None:\n",
    "        try:\n",
    "            size = len(sequence)\n",
    "        except TypeError:\n",
    "            is_iterator = True\n",
    "    if size is not None:\n",
    "        if every is None:\n",
    "            if size <= 200:\n",
    "                every = 1\n",
    "            else:\n",
    "                every = size / 200     # every 0.5%\n",
    "    else:\n",
    "        assert every is not None, 'sequence is iterator, set every'\n",
    "\n",
    "    if is_iterator:\n",
    "        progress = IntProgress(min=0, max=1, value=1)\n",
    "        progress.bar_style = 'info'\n",
    "    else:\n",
    "        progress = IntProgress(min=0, max=size, value=0)\n",
    "    label = HTML()\n",
    "    box = VBox(children=[label, progress])\n",
    "    display(box)\n",
    "    \n",
    "    index = 0\n",
    "    try:\n",
    "        for index, record in enumerate(sequence, 1):\n",
    "            \n",
    "            if index == 1 or index % every == 0:\n",
    "                if is_iterator:\n",
    "                    label.value = '{index} / ?'.format(index=index)\n",
    "                else:\n",
    "                    progress.value = index\n",
    "                    label.value = u'{index} / {size}'.format(\n",
    "                        index=index,\n",
    "                        size=size\n",
    "                    )\n",
    "            yield record\n",
    "    except:\n",
    "        progress.bar_style = 'danger'\n",
    "        raise\n",
    "    else:\n",
    "        progress.bar_style = 'success'\n",
    "        progress.value = index\n",
    "        label.value = str(index or '?')"
   ]
  },
  {
   "cell_type": "code",
   "execution_count": 3,
   "metadata": {},
   "outputs": [],
   "source": [
    "#определяем название выходного файла для заведений\n",
    "places_out_file = 'vk_places_spb.csv'\n",
    "\n",
    "places_out_geo_file = 'vk_places_spb.geojson'\n",
    "\n",
    "#определяем название выходного файла для чекинов\n",
    "checkins_out_file = 'vk_checkins_spb.csv'\n",
    "\n",
    "#определяем название выходного файла для пользователей в округе\n",
    "users_field_out_file = 'vk_users_field_spn.csv'\n",
    "\n",
    "#вых файл для пользователей по чекинам в заведениях\n",
    "users_field_out_file = 'vk_users_in_places_spb.csv'\n",
    "\n",
    "#определяем название выходного файла для социального графа\n",
    "friends_out_file = 'friends_fn.csv'\n",
    "#59.909159, 30.163642\n",
    "#59.961201, 30.301211\n",
    "#определяем пространственные границы сбора данных\n",
    "bounds = {'lower':{'lat': 59.490377, 'lng': 29.449268}, 'upper':{'lat': 60.413443, 'lng': 31.137441}}\n",
    "\n",
    "#определяем временные границы сбора чекинов"
   ]
  },
  {
   "cell_type": "code",
   "execution_count": 4,
   "metadata": {},
   "outputs": [],
   "source": [
    "#Папки\n",
    "raw_data = '../Data/RawData/'\n",
    "processing_data = '../Data/ProcessingData/'\n",
    "result_data = '../Data/CleanData/'"
   ]
  },
  {
   "cell_type": "code",
   "execution_count": 5,
   "metadata": {},
   "outputs": [],
   "source": [
    "#радиусы запросов вконтакте\n",
    "radius_types = {\n",
    "    \"1\": 100,\n",
    "    \"2\": 800,\n",
    "    \"3\": 6000,\n",
    "    \"4\": 50000\n",
    "}"
   ]
  },
  {
   "cell_type": "code",
   "execution_count": 6,
   "metadata": {},
   "outputs": [],
   "source": [
    "#Функции сбора заведений\n",
    "\n",
    "deq = collections.deque(maxlen=4)\n",
    "def trottling_request():\n",
    "    deq.appendleft(time.time())\n",
    "    if len(deq) == 4:\n",
    "        # 3 запроса в секунду, если нужно - подождем\n",
    "        time.sleep(max(1+deq[3]-deq[0], 0.5))\n",
    "        \n",
    "\n",
    "#задать сетку\n",
    "def get_circle_centers(lower, upper, radius):\n",
    "    \"\"\"\n",
    "    cover the search area with circles for radar search\n",
    "    http://stackoverflow.com/questions/7477003/calculating-new-longtitude-latitude-from-old-n-meters\n",
    "    :param lower: lower bound of area (westmost + southmost)\n",
    "    :param upper: upper bound of area (eastmost + northmost)\n",
    "    :param radius: specified radius, adapt for high density areas\n",
    "    :return: list of circle centers that cover the area between lower/upper\n",
    "    \"\"\"\n",
    "    r = 6378.137\n",
    "    coords = list()\n",
    "    m = (1 / ((2 * pi / 360) * r)) / 1000;\n",
    "    \n",
    "    coords.append({'lat':lower['lat'], 'lng':lower['lng'], 'radius': radius})\n",
    "    \n",
    "    while coords[-1]['lat'] < upper['lat']:\n",
    "        while coords[-1]['lng'] < upper['lng']:\n",
    "            new_lng = coords[-1]['lng'] + (2 * radius * m) / cos(coords[-1]['lat'] * (pi / 180));\n",
    "            coords.append({'lat':coords[-1]['lat'], 'lng':new_lng, 'radius':radius})\n",
    "        \n",
    "        new_lat = coords[-1]['lat'] + (2 * radius * m);\n",
    "        coords.append({'lat':new_lat, 'lng': lower['lng'], 'radius': radius})\n",
    "\n",
    "    return coords\n",
    "\n",
    "def get_additional_points(lat, lng, radius):\n",
    "    add_points = []\n",
    "    r = 6378.137\n",
    "    m = (1 / ((2 * pi / 360) * r)) / 1000;\n",
    "    \n",
    "    add_points.append({'lat':lat+((radius/2)*m), 'lng': lng+((radius/2)*m)/cos(lat*(pi/180)), 'radius':radius/2})\n",
    "    add_points.append({'lat':lat-((radius/2)*m), 'lng': lng+((radius/2)*m)/cos(lat*(pi/180)), 'radius':radius/2})\n",
    "    add_points.append({'lat':lat+((radius/2)*m), 'lng': lng-((radius/2)*m)/cos(lat*(pi/180)), 'radius':radius/2})\n",
    "    add_points.append({'lat':lat-((radius/2)*m), 'lng': lng-((radius/2)*m)/cos(lat*(pi/180)), 'radius':radius/2})\n",
    "    \n",
    "    return add_points\n",
    "\n",
    "def getPlaces(lat, lon, radius=1, count=100, offset=0):\n",
    "    if count > 100:\n",
    "        raise Exception('Bad params: max of count = 100')\n",
    "        \n",
    "    response = vk_api.places.search(latitude = lat, longitude = lon, radius = radius, count = count, offset = offset, version= 5.85)\n",
    "    \n",
    "    return response\n",
    "\n",
    "#TODO писать в файл каждые n итераций\n",
    "def allPlacesOffset(func, func_lat, func_lon, func_radius):\n",
    "    places = []\n",
    "    place_count = -1\n",
    "    offset = 0\n",
    "    while place_count != len(places):\n",
    "        trottling_request()\n",
    "        \n",
    "        try:\n",
    "            response = func(func_lat, func_lon, radius = func_radius, count = 100, offset = offset)\n",
    "        except Exception as ex:\n",
    "            print(\"error\")\n",
    "            print(str(ex))\n",
    "            time.sleep(1)\n",
    "            continue\n",
    "          \n",
    "        if place_count != response['count']:\n",
    "            place_count = response['count']\n",
    "        \n",
    "        items = response['items']\n",
    "        offset = offset + len(items)\n",
    "        \n",
    "        places = places + items\n",
    "    \n",
    "    return places\n",
    "\n",
    "def get_places_in_radius(places, radius):\n",
    "    radius = int(radius_types[str(radius)])\n",
    "    places_in_radius = list(filter(lambda p: p['distance'] < radius, places))\n",
    "    \n",
    "    return places_in_radius\n",
    "    "
   ]
  },
  {
   "cell_type": "code",
   "execution_count": 7,
   "metadata": {},
   "outputs": [],
   "source": [
    "circles_df = gpd.read_file(processing_data + 'circles_2.geojson')"
   ]
  },
  {
   "cell_type": "code",
   "execution_count": 10,
   "metadata": {},
   "outputs": [
    {
     "data": {
      "application/vnd.jupyter.widget-view+json": {
       "model_id": "4e59469a9ed64974bb7dc038c2424e20",
       "version_major": 2,
       "version_minor": 0
      },
      "text/plain": [
       "VBox(children=(HTML(value=''), IntProgress(value=0, max=86297)))"
      ]
     },
     "metadata": {},
     "output_type": "display_data"
    },
    {
     "name": "stdout",
     "output_type": "stream",
     "text": [
      "error\n",
      "('Connection aborted.', OSError(\"(10054, 'WSAECONNRESET')\"))\n",
      "error\n",
      "10. Internal server error. request_params = {'oauth': '1', 'method': 'places.search', 'v': '5.85', 'latitude': '59.96289083944618', 'longitude': '30.411183100879153', 'radius': '1', 'count': '100', 'offset': '0', 'version': '5.85'}\n",
      "error\n",
      "('Connection aborted.', OSError(\"(10054, 'WSAECONNRESET')\"))\n",
      "error\n",
      "HTTPSConnectionPool(host='api.vk.com', port=443): Read timed out. (read timeout=10)\n",
      "error\n",
      "HTTPSConnectionPool(host='api.vk.com', port=443): Read timed out. (read timeout=10)\n",
      "error\n",
      "HTTPSConnectionPool(host='api.vk.com', port=443): Max retries exceeded with url: /method/places.search (Caused by ConnectTimeoutError(<urllib3.connection.VerifiedHTTPSConnection object at 0x0000029A7C2867B8>, 'Connection to api.vk.com timed out. (connect timeout=10)'))\n",
      "error\n",
      "10. Internal server error: could not check access_token now, check later.. request_params = {'oauth': '1', 'method': 'places.search', 'v': '5.85', 'latitude': '60.192859552180444', 'longitude': '30.30225548944095', 'radius': '1', 'count': '100', 'offset': '0', 'version': '5.85'}\n"
     ]
    }
   ],
   "source": [
    "with open(raw_data + places_out_file, 'a+', encoding='utf-8') as file:\n",
    "    file.write('id; title; latitude; longitude; created; checkins; type; country; city; address; distance\\r\\n')\n",
    "    for circle in log_progress(circles_df.iterrows(),1,86297):\n",
    "        lng = circle[1]['geometry'][0].x\n",
    "        lat = circle[1]['geometry'][0].y\n",
    "\n",
    "        radius=1 #100m\n",
    "        places = allPlacesOffset(getPlaces, lat, lng, radius)\n",
    "        for place in places:\n",
    "            try:\n",
    "                file.write('{id}; \"{title}\"; {latitude}; {longitude}; {created}; {checkins}; {type}; {country}; {city}; \"{address}\"; {distance}\\r\\n'.format(\n",
    "                    id=place['id'] if 'id' in place else -1, \n",
    "                    title=place['title'] if 'title' in place else '',\n",
    "                    latitude=place['latitude'] if 'latitude' in place else 0.0, \n",
    "                    longitude=place['longitude'] if 'longitude' in place else 0.0,\n",
    "                    created=place['created'] if 'created' in place else -1,  \n",
    "                    checkins=place['checkins'] if 'checkins' in place else -1,\n",
    "                    type=place['type'] if 'type' in place else -1, \n",
    "                    country=place['country'] if 'country' in place else -1,\n",
    "                    city=place['city'] if 'city' in place else -1, \n",
    "                    address=place['address'] if 'address' in place else '', \n",
    "                    distance=place['distance'] if 'distance' in place else -1))\n",
    "    \n",
    "            except Exception as ex: \n",
    "                print(ex)\n",
    "                continue"
   ]
  },
  {
   "cell_type": "code",
   "execution_count": 11,
   "metadata": {},
   "outputs": [],
   "source": [
    "file.close()"
   ]
  },
  {
   "cell_type": "code",
   "execution_count": 16,
   "metadata": {},
   "outputs": [
    {
     "data": {
      "application/vnd.jupyter.widget-view+json": {
       "model_id": "54ddeb1996e248b781f57e9a6dd97a4a",
       "version_major": 2,
       "version_minor": 0
      },
      "text/plain": [
       "VBox(children=(HTML(value=''), IntProgress(value=1, bar_style='info', max=1)))"
      ]
     },
     "metadata": {},
     "output_type": "display_data"
    },
    {
     "name": "stdout",
     "output_type": "stream",
     "text": [
      "invalid literal for int() with base 10: 'id'\n",
      "invalid literal for int() with base 10: 'id'\n"
     ]
    }
   ],
   "source": [
    "all_places = []\n",
    "\n",
    "places_set = set()\n",
    "\n",
    "with open(raw_data + places_out_file, 'r', encoding='utf-8') as file:\n",
    "    header = file.readline().replace('\\n','').split(';')\n",
    "    for line in log_progress(file,100000):\n",
    "        place_parameter = line.replace('\\n','').split(';')\n",
    "        if(len(place_parameter) == len(header)):\n",
    "        \n",
    "            place = {}\n",
    "            \n",
    "            try:\n",
    "                pid =  int(place_parameter[0])\n",
    "                checkins = int(place_parameter[5])\n",
    "                \n",
    "                if (pid not in places_set and checkins > -1):\n",
    "                    \n",
    "                    place['id'] = int(place_parameter[0])\n",
    "                    place['title'] = place_parameter[1]\n",
    "                    place['lat'] = float(place_parameter[2])\n",
    "                    place['lng'] = float(place_parameter[3])\n",
    "                    place['created'] = int(place_parameter[4])\n",
    "                    place['checkins'] = int(place_parameter[5])\n",
    "                    place['type'] = int(place_parameter[6])\n",
    "                    place['country'] = int(place_parameter[7])\n",
    "                    place['city'] = int(place_parameter[8])\n",
    "                    place['address'] = place_parameter[9]\n",
    "                    place['distance'] = int(place_parameter[10])\n",
    "                    \n",
    "                    places_set.add(pid)\n",
    "                    all_places.append(place)\n",
    "                \n",
    "            except Exception as ex:\n",
    "                print(ex)\n",
    "                continue"
   ]
  },
  {
   "cell_type": "code",
   "execution_count": 17,
   "metadata": {},
   "outputs": [
    {
     "data": {
      "text/plain": [
       "46314"
      ]
     },
     "execution_count": 17,
     "metadata": {},
     "output_type": "execute_result"
    }
   ],
   "source": [
    "len(all_places)"
   ]
  },
  {
   "cell_type": "code",
   "execution_count": 23,
   "metadata": {},
   "outputs": [],
   "source": [
    "del(all_places)"
   ]
  },
  {
   "cell_type": "code",
   "execution_count": 24,
   "metadata": {},
   "outputs": [],
   "source": [
    "del(places_set)"
   ]
  },
  {
   "cell_type": "code",
   "execution_count": 25,
   "metadata": {},
   "outputs": [],
   "source": [
    "file.close()"
   ]
  },
  {
   "cell_type": "code",
   "execution_count": 18,
   "metadata": {},
   "outputs": [
    {
     "name": "stdout",
     "output_type": "stream",
     "text": [
      "(46314, 11)\n"
     ]
    },
    {
     "name": "stderr",
     "output_type": "stream",
     "text": [
      "C:\\Users\\Artem\\AppData\\Local\\Continuum\\anaconda3\\lib\\site-packages\\geopandas\\io\\file.py:108: FionaDeprecationWarning: Use fiona.Env() instead.\n",
      "  with fiona.drivers():\n"
     ]
    }
   ],
   "source": [
    "#save\n",
    "places_df = pd.DataFrame(all_places)\n",
    "places_df = places_df.drop_duplicates('id')\n",
    "places_df.to_csv(processing_data + places_out_file)\n",
    "print(places_df.shape)\n",
    "del(places_df)\n",
    "\n",
    "places_gdf = gpd.GeoDataFrame(all_places, geometry=[Point(p['lng'], p['lat']) for p in all_places])\n",
    "places_gdf = places_gdf.drop_duplicates('id')\n",
    "places_gdf.to_file(processing_data + 'all_places.geojson', driver='GeoJSON', encoding='utf-8')\n",
    "del(places_gdf)"
   ]
  },
  {
   "cell_type": "code",
   "execution_count": 7,
   "metadata": {},
   "outputs": [],
   "source": [
    "places_df = pd.read_csv(processing_data + places_out_file)"
   ]
  },
  {
   "cell_type": "code",
   "execution_count": 15,
   "metadata": {},
   "outputs": [],
   "source": [
    "#Запускаем сбор чекинов\n",
    "\n",
    "def getChekinsFromCoords(lat, lng, radius=1, count = 100, offset = 0):\n",
    "    if count > 100:\n",
    "        raise Exception('Bad params: max of count = 100')\n",
    "    #response = requests.get('{host}/places.getCheckins?latitude={lat}&longitude={lon}&count={count}&offset={offset}&need_places=1'\n",
    "    #                        .format(host=host,lat=lat, lon=lon, count=count, offset=offset))\n",
    "    response = vk_api.places.getCheckins(latitude = lat, longitude = lng, radius = radius, count = count, offset = offset, version = 5.85)\n",
    "    \n",
    "    return response   \n",
    "\n",
    "def getCheckinsFromPlace(place_id, count=100, offset = 0):\n",
    "    #host = 'http://api.vk.com/method'\n",
    "    if count > 100:\n",
    "        raise Exception('Bad params: max of count = 100')\n",
    "    #response = requests.get('{host}/places.getCheckins?latitude={lat}&longitude={lon}&count={count}&offset={offset}&need_places=1'\n",
    "    #                        .format(host=host,lat=lat, lon=lon, count=count, offset=offset))\n",
    "    response = vk_api.places.getCheckins(place = place_id, count = count, offset = offset, version=5.85)\n",
    "    \n",
    "    return response\n",
    "\n",
    "def allChecinsCountOffsetFromCoords(func, lat, lng):\n",
    "    checkins = []\n",
    "    count_checins = -1\n",
    "    offset = 0\n",
    "    while count_checins != len(checkins): # posible endless loop for real vk api\n",
    "        trottling_request()\n",
    "        try:\n",
    "            response = func(lat, lng, radius=1,count=100, offset=offset)\n",
    "        except Exception as e:\n",
    "            print(e)\n",
    "            time.sleep(1)\n",
    "            continue\n",
    "        \n",
    "        if count_checins != response['count']:\n",
    "            count_checins = response['count']\n",
    "        \n",
    "        items = response['items']\n",
    "        \n",
    "        if len(items) == 0:\n",
    "            return checkins\n",
    "        \n",
    "        offset = offset + len(items)\n",
    "        \n",
    "       \n",
    "        #if dict_checkins | set(new_members_id) == set_members_id != set(): # without new members\n",
    "         #   print('WARNING: break loop', count_members, len(set_members_id))\n",
    "          #  break\n",
    "        \n",
    "        checkins = checkins + items\n",
    "\n",
    "    return checkins\n",
    "\n",
    "def allChecinsCountOffsetFromPlace(func, place_id):\n",
    "    checkins = []\n",
    "    count_checins = -1\n",
    "    offset = 0\n",
    "    while count_checins != len(checkins): # posible endless loop for real vk api\n",
    "        trottling_request()\n",
    "        try:\n",
    "            response = func(place_id,count=100, offset=offset)\n",
    "        except Exception as e:\n",
    "            print(e)\n",
    "            time.sleep(1)\n",
    "            continue\n",
    "        \n",
    "        if count_checins != response[\"count\"]:\n",
    "            count_checins = response[\"count\"]\n",
    "        \n",
    "        items = response['items']\n",
    "        \n",
    "        if len(items) == 0:\n",
    "            return checkins\n",
    "        \n",
    "        offset = offset + len(items)\n",
    "        \n",
    "       \n",
    "        #if dict_checkins | set(new_members_id) == set_members_id != set(): # without new members\n",
    "         #   print('WARNING: break loop', count_members, len(set_members_id))\n",
    "          #  break\n",
    "        \n",
    "        checkins = checkins + items\n",
    "\n",
    "    return checkins"
   ]
  },
  {
   "cell_type": "code",
   "execution_count": 23,
   "metadata": {},
   "outputs": [
    {
     "data": {
      "application/vnd.jupyter.widget-view+json": {
       "model_id": "b16743c4d9f54bc287beaba5a69db780",
       "version_major": 2,
       "version_minor": 0
      },
      "text/plain": [
       "VBox(children=(HTML(value=''), IntProgress(value=0, max=46314)))"
      ]
     },
     "metadata": {},
     "output_type": "display_data"
    },
    {
     "name": "stdout",
     "output_type": "stream",
     "text": [
      "HTTPSConnectionPool(host='api.vk.com', port=443): Read timed out. (read timeout=10)\n",
      "HTTPSConnectionPool(host='api.vk.com', port=443): Max retries exceeded with url: /method/places.getCheckins (Caused by NewConnectionError('<urllib3.connection.VerifiedHTTPSConnection object at 0x000002890B95EA20>: Failed to establish a new connection: [Errno 11001] getaddrinfo failed'))\n",
      "HTTPSConnectionPool(host='api.vk.com', port=443): Max retries exceeded with url: /method/places.getCheckins (Caused by NewConnectionError('<urllib3.connection.VerifiedHTTPSConnection object at 0x000002890B95ECF8>: Failed to establish a new connection: [Errno 11001] getaddrinfo failed'))\n"
     ]
    }
   ],
   "source": [
    "all_checkins = []\n",
    "for place_id in log_progress(places_df.id.tolist(), 1):\n",
    "    checkins = allChecinsCountOffsetFromPlace(getCheckinsFromPlace, place_id)\n",
    "    if(checkins):\n",
    "        all_checkins.extend(checkins)"
   ]
  },
  {
   "cell_type": "code",
   "execution_count": 29,
   "metadata": {},
   "outputs": [
    {
     "data": {
      "text/plain": [
       "{'id': 17,\n",
       " 'user_id': 200670,\n",
       " 'post_id': 3662,\n",
       " 'latitude': 0.0,\n",
       " 'longitude': 0.0,\n",
       " 'date': 1551453012,\n",
       " 'place_id': 118414262,\n",
       " 'text': ''}"
      ]
     },
     "execution_count": 29,
     "metadata": {},
     "output_type": "execute_result"
    }
   ],
   "source": [
    "all_checkins[0]"
   ]
  },
  {
   "cell_type": "code",
   "execution_count": 30,
   "metadata": {},
   "outputs": [],
   "source": [
    "#save chekins\n",
    "checkins_df = pd.DataFrame(all_checkins)\n",
    "checkins_df.to_csv(raw_data + checkins_out_file)"
   ]
  },
  {
   "cell_type": "code",
   "execution_count": 31,
   "metadata": {},
   "outputs": [
    {
     "data": {
      "text/plain": [
       "(93458, 8)"
      ]
     },
     "execution_count": 31,
     "metadata": {},
     "output_type": "execute_result"
    }
   ],
   "source": [
    "checkins_df.shape"
   ]
  },
  {
   "cell_type": "code",
   "execution_count": null,
   "metadata": {
    "collapsed": true
   },
   "outputs": [],
   "source": [
    "#скачать информацию по пользвателям\n",
    "checkins_df = pd.read_csv(raw_data + checkins_out_file)\n",
    "places_df = pd.read_csv(raw_data + places_out_file)"
   ]
  }
 ],
 "metadata": {
  "kernelspec": {
   "display_name": "Python 3",
   "language": "python",
   "name": "python3"
  },
  "language_info": {
   "codemirror_mode": {
    "name": "ipython",
    "version": 3
   },
   "file_extension": ".py",
   "mimetype": "text/x-python",
   "name": "python",
   "nbconvert_exporter": "python",
   "pygments_lexer": "ipython3",
   "version": "3.7.1"
  }
 },
 "nbformat": 4,
 "nbformat_minor": 2
}
