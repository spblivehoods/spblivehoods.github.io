{
 "cells": [
  {
   "cell_type": "code",
   "execution_count": 30,
   "metadata": {},
   "outputs": [
    {
     "ename": "ModuleNotFoundError",
     "evalue": "No module named 'shaply'",
     "output_type": "error",
     "traceback": [
      "\u001b[1;31m---------------------------------------------------------------------------\u001b[0m",
      "\u001b[1;31mModuleNotFoundError\u001b[0m                       Traceback (most recent call last)",
      "\u001b[1;32m<ipython-input-30-c9de5f0bd019>\u001b[0m in \u001b[0;36m<module>\u001b[1;34m\u001b[0m\n\u001b[0;32m      7\u001b[0m \u001b[1;32mimport\u001b[0m \u001b[0mmatplotlib\u001b[0m\u001b[1;33m.\u001b[0m\u001b[0mpyplot\u001b[0m \u001b[1;32mas\u001b[0m \u001b[0mplt\u001b[0m\u001b[1;33m\u001b[0m\u001b[1;33m\u001b[0m\u001b[0m\n\u001b[0;32m      8\u001b[0m \u001b[1;32mfrom\u001b[0m \u001b[0mpylab\u001b[0m \u001b[1;32mimport\u001b[0m \u001b[1;33m*\u001b[0m\u001b[1;33m\u001b[0m\u001b[1;33m\u001b[0m\u001b[0m\n\u001b[1;32m----> 9\u001b[1;33m \u001b[1;32mfrom\u001b[0m \u001b[0mshaply\u001b[0m \u001b[1;32mimport\u001b[0m \u001b[0mPoint\u001b[0m\u001b[1;33m\u001b[0m\u001b[1;33m\u001b[0m\u001b[0m\n\u001b[0m\u001b[0;32m     10\u001b[0m \u001b[1;33m\u001b[0m\u001b[0m\n\u001b[0;32m     11\u001b[0m \u001b[1;32mfrom\u001b[0m \u001b[0msklearn\u001b[0m\u001b[1;33m.\u001b[0m\u001b[0mutils\u001b[0m\u001b[1;33m.\u001b[0m\u001b[0mgraph\u001b[0m \u001b[1;32mimport\u001b[0m \u001b[0mgraph_laplacian\u001b[0m\u001b[1;33m\u001b[0m\u001b[1;33m\u001b[0m\u001b[0m\n",
      "\u001b[1;31mModuleNotFoundError\u001b[0m: No module named 'shaply'"
     ]
    }
   ],
   "source": [
    "import pandas as pd\n",
    "import json\n",
    "import numpy as np\n",
    "import sklearn\n",
    "import scipy\n",
    "import sys\n",
    "import matplotlib.pyplot as plt\n",
    "from pylab import *\n",
    "\n",
    "from sklearn.utils.graph import graph_laplacian\n",
    "from sklearn.utils.arpack import eigsh\n",
    "\n",
    "\n",
    "pd.set_option('display.max_columns', 500)\n",
    "%matplotlib inline"
   ]
  },
  {
   "cell_type": "code",
   "execution_count": 2,
   "metadata": {
    "collapsed": true
   },
   "outputs": [],
   "source": [
    "#load affinity_matrix if we have it\n",
    "#affinity_matrix = scipy.sparse.load_npz('../Data/ProcessingData/k_10_nearest_affenity_matrix_csc.npz')"
   ]
  },
  {
   "cell_type": "code",
   "execution_count": 2,
   "metadata": {},
   "outputs": [],
   "source": [
    "#progress bar decorator\n",
    "def log_progress(sequence, every=None, size=None):\n",
    "    from ipywidgets import IntProgress, HTML, VBox\n",
    "    from IPython.display import display\n",
    "    \n",
    "    is_iterator = False\n",
    "    if size is None:\n",
    "        try:\n",
    "            size = len(sequence)\n",
    "        except TypeError:\n",
    "            is_iterator = True\n",
    "    if size is not None:\n",
    "        if every is None:\n",
    "            if size <= 200:\n",
    "                every = 1\n",
    "            else:\n",
    "                every = size / 200     # every 0.5%\n",
    "    else:\n",
    "        assert every is not None, 'sequence is iterator, set every'\n",
    "\n",
    "    if is_iterator:\n",
    "        progress = IntProgress(min=0, max=1, value=1)\n",
    "        progress.bar_style = 'info'\n",
    "    else:\n",
    "        progress = IntProgress(min=0, max=size, value=0)\n",
    "    label = HTML()\n",
    "    box = VBox(children=[label, progress])\n",
    "    display(box)\n",
    "    \n",
    "    index = 0\n",
    "    try:\n",
    "        for index, record in enumerate(sequence, 1):\n",
    "            \n",
    "            if index == 1 or index % every == 0:\n",
    "                if is_iterator:\n",
    "                    label.value = '{index} / ?'.format(index=index)\n",
    "                else:\n",
    "                    progress.value = index\n",
    "                    label.value = u'{index} / {size}'.format(\n",
    "                        index=index,\n",
    "                        size=size\n",
    "                    )\n",
    "            yield record\n",
    "    except:\n",
    "        progress.bar_style = 'danger'\n",
    "        raise\n",
    "    else:\n",
    "        progress.bar_style = 'success'\n",
    "        progress.value = index\n",
    "        label.value = str(index or '?')"
   ]
  },
  {
   "cell_type": "code",
   "execution_count": 3,
   "metadata": {},
   "outputs": [],
   "source": [
    "places = pd.read_csv(\"../Data/ProcessingData/places_36N.csv\")\n",
    "checkins = pd.read_csv(\"../Data/ProcessingData/chekins.csv\")"
   ]
  },
  {
   "cell_type": "markdown",
   "metadata": {},
   "source": [
    "#### Матрица взимодействия\n",
    "from_lat, from_lng, to_lat, to_lng, wight\n",
    "\n",
    "записываем в матрицу только если между заведениями больше n общих пользователей\n",
    "\n"
   ]
  },
  {
   "cell_type": "code",
   "execution_count": 4,
   "metadata": {},
   "outputs": [
    {
     "data": {
      "text/html": [
       "<div>\n",
       "<style scoped>\n",
       "    .dataframe tbody tr th:only-of-type {\n",
       "        vertical-align: middle;\n",
       "    }\n",
       "\n",
       "    .dataframe tbody tr th {\n",
       "        vertical-align: top;\n",
       "    }\n",
       "\n",
       "    .dataframe thead th {\n",
       "        text-align: right;\n",
       "    }\n",
       "</style>\n",
       "<table border=\"1\" class=\"dataframe\">\n",
       "  <thead>\n",
       "    <tr style=\"text-align: right;\">\n",
       "      <th></th>\n",
       "      <th>address</th>\n",
       "      <th>checkins</th>\n",
       "      <th>city</th>\n",
       "      <th>country</th>\n",
       "      <th>created</th>\n",
       "      <th>distance</th>\n",
       "      <th>group_id</th>\n",
       "      <th>group_phot</th>\n",
       "      <th>icon</th>\n",
       "      <th>latitude</th>\n",
       "      <th>longitude</th>\n",
       "      <th>pid</th>\n",
       "      <th>place_id</th>\n",
       "      <th>title</th>\n",
       "      <th>type</th>\n",
       "      <th>updated</th>\n",
       "      <th>xcoord</th>\n",
       "      <th>ycoord</th>\n",
       "    </tr>\n",
       "  </thead>\n",
       "  <tbody>\n",
       "    <tr>\n",
       "      <th>0</th>\n",
       "      <td>пр. Ветеранов 170</td>\n",
       "      <td>51</td>\n",
       "      <td>NaN</td>\n",
       "      <td>NaN</td>\n",
       "      <td>1429878167</td>\n",
       "      <td>313</td>\n",
       "      <td>NaN</td>\n",
       "      <td>NaN</td>\n",
       "      <td>https://vk.com/images/places/place.png</td>\n",
       "      <td>59.833544</td>\n",
       "      <td>30.136203</td>\n",
       "      <td>11659767</td>\n",
       "      <td>11659767</td>\n",
       "      <td>Парк \"Сосновая поляна\"</td>\n",
       "      <td>21</td>\n",
       "      <td>1516470339.0</td>\n",
       "      <td>339495.371421</td>\n",
       "      <td>6.636343e+06</td>\n",
       "    </tr>\n",
       "  </tbody>\n",
       "</table>\n",
       "</div>"
      ],
      "text/plain": [
       "             address  checkins  city  country     created  distance  group_id  \\\n",
       "0  пр. Ветеранов 170        51   NaN      NaN  1429878167       313       NaN   \n",
       "\n",
       "  group_phot                                    icon   latitude  longitude  \\\n",
       "0        NaN  https://vk.com/images/places/place.png  59.833544  30.136203   \n",
       "\n",
       "        pid  place_id                   title type       updated  \\\n",
       "0  11659767  11659767  Парк \"Сосновая поляна\"   21  1516470339.0   \n",
       "\n",
       "          xcoord        ycoord  \n",
       "0  339495.371421  6.636343e+06  "
      ]
     },
     "execution_count": 4,
     "metadata": {},
     "output_type": "execute_result"
    }
   ],
   "source": [
    "places.head(1)"
   ]
  },
  {
   "cell_type": "code",
   "execution_count": 5,
   "metadata": {},
   "outputs": [
    {
     "data": {
      "text/plain": [
       "(6491, 18)"
      ]
     },
     "execution_count": 5,
     "metadata": {},
     "output_type": "execute_result"
    }
   ],
   "source": [
    "places.shape"
   ]
  },
  {
   "cell_type": "code",
   "execution_count": 6,
   "metadata": {},
   "outputs": [],
   "source": [
    "users_in_places = pd.merge(places, checkins, on='place_id', how='left')"
   ]
  },
  {
   "cell_type": "code",
   "execution_count": 7,
   "metadata": {},
   "outputs": [
    {
     "name": "stderr",
     "output_type": "stream",
     "text": [
      "C:\\Users\\Artem\\AppData\\Local\\Continuum\\anaconda3\\lib\\site-packages\\ipykernel_launcher.py:4: FutureWarning: using a dict on a Series for aggregation\n",
      "is deprecated and will be removed in a future version\n",
      "  after removing the cwd from sys.path.\n"
     ]
    }
   ],
   "source": [
    "def to_set(x):\n",
    "    return set(x)\n",
    "\n",
    "place_users = users_in_places.groupby('place_id')['uid'].agg({'size': len, 'users_set': to_set}).reset_index()"
   ]
  },
  {
   "cell_type": "code",
   "execution_count": 53,
   "metadata": {},
   "outputs": [
    {
     "data": {
      "text/html": [
       "<div>\n",
       "<style scoped>\n",
       "    .dataframe tbody tr th:only-of-type {\n",
       "        vertical-align: middle;\n",
       "    }\n",
       "\n",
       "    .dataframe tbody tr th {\n",
       "        vertical-align: top;\n",
       "    }\n",
       "\n",
       "    .dataframe thead th {\n",
       "        text-align: right;\n",
       "    }\n",
       "</style>\n",
       "<table border=\"1\" class=\"dataframe\">\n",
       "  <thead>\n",
       "    <tr style=\"text-align: right;\">\n",
       "      <th></th>\n",
       "      <th>place_id</th>\n",
       "      <th>size</th>\n",
       "      <th>users_set</th>\n",
       "    </tr>\n",
       "  </thead>\n",
       "  <tbody>\n",
       "    <tr>\n",
       "      <th>0</th>\n",
       "      <td>74</td>\n",
       "      <td>4.0</td>\n",
       "      <td>{153745289.0, 164370402.0, 546236.0, 264157.0}</td>\n",
       "    </tr>\n",
       "    <tr>\n",
       "      <th>1</th>\n",
       "      <td>202</td>\n",
       "      <td>18.0</td>\n",
       "      <td>{67011.0, 1159460.0, 171495.0, 154922026.0, 16...</td>\n",
       "    </tr>\n",
       "    <tr>\n",
       "      <th>2</th>\n",
       "      <td>204</td>\n",
       "      <td>57.0</td>\n",
       "      <td>{792320.0, 1113985.0, 22821891.0, 220298.0, 10...</td>\n",
       "    </tr>\n",
       "    <tr>\n",
       "      <th>3</th>\n",
       "      <td>237</td>\n",
       "      <td>43.0</td>\n",
       "      <td>{20897800.0, 90889.0, 19393554.0, 148259865.0,...</td>\n",
       "    </tr>\n",
       "    <tr>\n",
       "      <th>4</th>\n",
       "      <td>245</td>\n",
       "      <td>5.0</td>\n",
       "      <td>{447752.0, 9773961.0, 133114189.0, 2697846.0}</td>\n",
       "    </tr>\n",
       "  </tbody>\n",
       "</table>\n",
       "</div>"
      ],
      "text/plain": [
       "   place_id  size                                          users_set\n",
       "0        74   4.0     {153745289.0, 164370402.0, 546236.0, 264157.0}\n",
       "1       202  18.0  {67011.0, 1159460.0, 171495.0, 154922026.0, 16...\n",
       "2       204  57.0  {792320.0, 1113985.0, 22821891.0, 220298.0, 10...\n",
       "3       237  43.0  {20897800.0, 90889.0, 19393554.0, 148259865.0,...\n",
       "4       245   5.0      {447752.0, 9773961.0, 133114189.0, 2697846.0}"
      ]
     },
     "execution_count": 53,
     "metadata": {},
     "output_type": "execute_result"
    }
   ],
   "source": [
    "place_users.head()"
   ]
  },
  {
   "cell_type": "code",
   "execution_count": 15,
   "metadata": {
    "scrolled": true
   },
   "outputs": [
    {
     "data": {
      "application/vnd.jupyter.widget-view+json": {
       "model_id": "df74559eef9146b8a04bfacbefe01ded",
       "version_major": 2,
       "version_minor": 0
      },
      "text/plain": [
       "VBox(children=(HTML(value=''), IntProgress(value=1, bar_style='info', max=1)))"
      ]
     },
     "metadata": {},
     "output_type": "display_data"
    }
   ],
   "source": [
    "join_list = []\n",
    "\n",
    "i = 1\n",
    "\n",
    "for row in log_progress(place_users.iterrows(),1):\n",
    "    for row_2 in place_users.iloc[i:].iterrows():\n",
    "        join_set = row[1]['users_set'] & row_2[1]['users_set']\n",
    "        if len(join_set) > 2:\n",
    "            join = {'place_from_id': row[1]['place_id'], 'place_to_id': row_2[1]['place_id'], 'common_users_set': join_set, 'size': len(join_set)}\n",
    "            join_list.append(join)\n",
    "            \n",
    "    i+=1"
   ]
  },
  {
   "cell_type": "code",
   "execution_count": 17,
   "metadata": {},
   "outputs": [
    {
     "data": {
      "text/plain": [
       "62410"
      ]
     },
     "execution_count": 17,
     "metadata": {},
     "output_type": "execute_result"
    }
   ],
   "source": [
    "len(join_list)"
   ]
  },
  {
   "cell_type": "code",
   "execution_count": 18,
   "metadata": {},
   "outputs": [],
   "source": [
    "#add coord\n",
    "join_df = pd.DataFrame(join_list)"
   ]
  },
  {
   "cell_type": "code",
   "execution_count": 19,
   "metadata": {},
   "outputs": [],
   "source": [
    "from_df = pd.merge(join_df[['place_from_id', 'place_to_id', 'size',]], places[['place_id', 'latitude', 'longitude', 'xcoord', 'ycoord', 'title']], left_on='place_from_id', right_on='place_id', how='left')"
   ]
  },
  {
   "cell_type": "code",
   "execution_count": 22,
   "metadata": {},
   "outputs": [],
   "source": [
    "from_df = from_df.rename(index=str, columns={\"latitude\": \"from_lat\", \"longitude\": \"from_lng\", \"xcoord\": \"from_x\", \"ycoord\": \"from_y\", 'title':'from_title' })"
   ]
  },
  {
   "cell_type": "code",
   "execution_count": 23,
   "metadata": {},
   "outputs": [
    {
     "data": {
      "text/html": [
       "<div>\n",
       "<style scoped>\n",
       "    .dataframe tbody tr th:only-of-type {\n",
       "        vertical-align: middle;\n",
       "    }\n",
       "\n",
       "    .dataframe tbody tr th {\n",
       "        vertical-align: top;\n",
       "    }\n",
       "\n",
       "    .dataframe thead th {\n",
       "        text-align: right;\n",
       "    }\n",
       "</style>\n",
       "<table border=\"1\" class=\"dataframe\">\n",
       "  <thead>\n",
       "    <tr style=\"text-align: right;\">\n",
       "      <th></th>\n",
       "      <th>place_from_id</th>\n",
       "      <th>place_to_id</th>\n",
       "      <th>size</th>\n",
       "      <th>place_id</th>\n",
       "      <th>from_lat</th>\n",
       "      <th>from_lng</th>\n",
       "      <th>from_x</th>\n",
       "      <th>from_y</th>\n",
       "      <th>from_title</th>\n",
       "    </tr>\n",
       "  </thead>\n",
       "  <tbody>\n",
       "    <tr>\n",
       "      <th>0</th>\n",
       "      <td>204</td>\n",
       "      <td>5883</td>\n",
       "      <td>3</td>\n",
       "      <td>204</td>\n",
       "      <td>59.938982</td>\n",
       "      <td>30.327281</td>\n",
       "      <td>350674.468152</td>\n",
       "      <td>6.647631e+06</td>\n",
       "      <td>Акакао</td>\n",
       "    </tr>\n",
       "    <tr>\n",
       "      <th>1</th>\n",
       "      <td>204</td>\n",
       "      <td>4564617</td>\n",
       "      <td>3</td>\n",
       "      <td>204</td>\n",
       "      <td>59.938982</td>\n",
       "      <td>30.327281</td>\n",
       "      <td>350674.468152</td>\n",
       "      <td>6.647631e+06</td>\n",
       "      <td>Акакао</td>\n",
       "    </tr>\n",
       "    <tr>\n",
       "      <th>2</th>\n",
       "      <td>204</td>\n",
       "      <td>4589220</td>\n",
       "      <td>3</td>\n",
       "      <td>204</td>\n",
       "      <td>59.938982</td>\n",
       "      <td>30.327281</td>\n",
       "      <td>350674.468152</td>\n",
       "      <td>6.647631e+06</td>\n",
       "      <td>Акакао</td>\n",
       "    </tr>\n",
       "    <tr>\n",
       "      <th>3</th>\n",
       "      <td>204</td>\n",
       "      <td>5363074</td>\n",
       "      <td>3</td>\n",
       "      <td>204</td>\n",
       "      <td>59.938982</td>\n",
       "      <td>30.327281</td>\n",
       "      <td>350674.468152</td>\n",
       "      <td>6.647631e+06</td>\n",
       "      <td>Акакао</td>\n",
       "    </tr>\n",
       "    <tr>\n",
       "      <th>4</th>\n",
       "      <td>204</td>\n",
       "      <td>5439777</td>\n",
       "      <td>4</td>\n",
       "      <td>204</td>\n",
       "      <td>59.938982</td>\n",
       "      <td>30.327281</td>\n",
       "      <td>350674.468152</td>\n",
       "      <td>6.647631e+06</td>\n",
       "      <td>Акакао</td>\n",
       "    </tr>\n",
       "  </tbody>\n",
       "</table>\n",
       "</div>"
      ],
      "text/plain": [
       "   place_from_id  place_to_id  size  place_id   from_lat   from_lng  \\\n",
       "0            204         5883     3       204  59.938982  30.327281   \n",
       "1            204      4564617     3       204  59.938982  30.327281   \n",
       "2            204      4589220     3       204  59.938982  30.327281   \n",
       "3            204      5363074     3       204  59.938982  30.327281   \n",
       "4            204      5439777     4       204  59.938982  30.327281   \n",
       "\n",
       "          from_x        from_y from_title  \n",
       "0  350674.468152  6.647631e+06     Акакао  \n",
       "1  350674.468152  6.647631e+06     Акакао  \n",
       "2  350674.468152  6.647631e+06     Акакао  \n",
       "3  350674.468152  6.647631e+06     Акакао  \n",
       "4  350674.468152  6.647631e+06     Акакао  "
      ]
     },
     "execution_count": 23,
     "metadata": {},
     "output_type": "execute_result"
    }
   ],
   "source": [
    "from_df.head()"
   ]
  },
  {
   "cell_type": "code",
   "execution_count": 24,
   "metadata": {},
   "outputs": [],
   "source": [
    "to_df = pd.merge(from_df, places[['place_id', 'latitude', 'longitude', 'xcoord', 'ycoord', 'title']], left_on='place_to_id', right_on='place_id', how='left')"
   ]
  },
  {
   "cell_type": "code",
   "execution_count": null,
   "metadata": {},
   "outputs": [],
   "source": []
  },
  {
   "cell_type": "code",
   "execution_count": 27,
   "metadata": {},
   "outputs": [],
   "source": [
    "final_df = to_df.rename(index=str, columns={\"latitude\": \"to_lat\", \"longitude\": \"to_lng\", \"xcoord\":\"to_x\", \"ycoord\":\"to_y\", \"title\":\"to_title\"})"
   ]
  },
  {
   "cell_type": "code",
   "execution_count": 28,
   "metadata": {},
   "outputs": [
    {
     "data": {
      "text/html": [
       "<div>\n",
       "<style scoped>\n",
       "    .dataframe tbody tr th:only-of-type {\n",
       "        vertical-align: middle;\n",
       "    }\n",
       "\n",
       "    .dataframe tbody tr th {\n",
       "        vertical-align: top;\n",
       "    }\n",
       "\n",
       "    .dataframe thead th {\n",
       "        text-align: right;\n",
       "    }\n",
       "</style>\n",
       "<table border=\"1\" class=\"dataframe\">\n",
       "  <thead>\n",
       "    <tr style=\"text-align: right;\">\n",
       "      <th></th>\n",
       "      <th>place_from_id</th>\n",
       "      <th>place_to_id</th>\n",
       "      <th>size</th>\n",
       "      <th>place_id_x</th>\n",
       "      <th>from_lat</th>\n",
       "      <th>from_lng</th>\n",
       "      <th>from_x</th>\n",
       "      <th>from_y</th>\n",
       "      <th>from_title</th>\n",
       "      <th>place_id_y</th>\n",
       "      <th>to_lat</th>\n",
       "      <th>to_lng</th>\n",
       "      <th>to_x</th>\n",
       "      <th>to_y</th>\n",
       "      <th>to_title</th>\n",
       "    </tr>\n",
       "  </thead>\n",
       "  <tbody>\n",
       "    <tr>\n",
       "      <th>0</th>\n",
       "      <td>204</td>\n",
       "      <td>5883</td>\n",
       "      <td>3</td>\n",
       "      <td>204</td>\n",
       "      <td>59.938982</td>\n",
       "      <td>30.327281</td>\n",
       "      <td>350674.468152</td>\n",
       "      <td>6.647631e+06</td>\n",
       "      <td>Акакао</td>\n",
       "      <td>5883</td>\n",
       "      <td>59.942385</td>\n",
       "      <td>30.335766</td>\n",
       "      <td>351163.612025</td>\n",
       "      <td>6.647991e+06</td>\n",
       "      <td>Летний сад</td>\n",
       "    </tr>\n",
       "    <tr>\n",
       "      <th>1</th>\n",
       "      <td>204</td>\n",
       "      <td>4564617</td>\n",
       "      <td>3</td>\n",
       "      <td>204</td>\n",
       "      <td>59.938982</td>\n",
       "      <td>30.327281</td>\n",
       "      <td>350674.468152</td>\n",
       "      <td>6.647631e+06</td>\n",
       "      <td>Акакао</td>\n",
       "      <td>4564617</td>\n",
       "      <td>59.931977</td>\n",
       "      <td>30.354621</td>\n",
       "      <td>352170.239136</td>\n",
       "      <td>6.646790e+06</td>\n",
       "      <td>Grizzly Bar Saint-Petersburg</td>\n",
       "    </tr>\n",
       "    <tr>\n",
       "      <th>2</th>\n",
       "      <td>204</td>\n",
       "      <td>4589220</td>\n",
       "      <td>3</td>\n",
       "      <td>204</td>\n",
       "      <td>59.938982</td>\n",
       "      <td>30.327281</td>\n",
       "      <td>350674.468152</td>\n",
       "      <td>6.647631e+06</td>\n",
       "      <td>Акакао</td>\n",
       "      <td>4589220</td>\n",
       "      <td>59.919343</td>\n",
       "      <td>30.350540</td>\n",
       "      <td>351885.950880</td>\n",
       "      <td>6.645393e+06</td>\n",
       "      <td>МОДНЫЙ КЛУБ ГРИБОЕДОВ</td>\n",
       "    </tr>\n",
       "    <tr>\n",
       "      <th>3</th>\n",
       "      <td>204</td>\n",
       "      <td>5363074</td>\n",
       "      <td>3</td>\n",
       "      <td>204</td>\n",
       "      <td>59.938982</td>\n",
       "      <td>30.327281</td>\n",
       "      <td>350674.468152</td>\n",
       "      <td>6.647631e+06</td>\n",
       "      <td>Акакао</td>\n",
       "      <td>5363074</td>\n",
       "      <td>59.981436</td>\n",
       "      <td>30.200782</td>\n",
       "      <td>343809.675592</td>\n",
       "      <td>6.652648e+06</td>\n",
       "      <td>Парк 300- летия</td>\n",
       "    </tr>\n",
       "    <tr>\n",
       "      <th>4</th>\n",
       "      <td>204</td>\n",
       "      <td>5439777</td>\n",
       "      <td>4</td>\n",
       "      <td>204</td>\n",
       "      <td>59.938982</td>\n",
       "      <td>30.327281</td>\n",
       "      <td>350674.468152</td>\n",
       "      <td>6.647631e+06</td>\n",
       "      <td>Акакао</td>\n",
       "      <td>5439777</td>\n",
       "      <td>59.919336</td>\n",
       "      <td>30.464995</td>\n",
       "      <td>358282.229463</td>\n",
       "      <td>6.645141e+06</td>\n",
       "      <td>Ледовый дворец</td>\n",
       "    </tr>\n",
       "  </tbody>\n",
       "</table>\n",
       "</div>"
      ],
      "text/plain": [
       "   place_from_id  place_to_id  size  place_id_x   from_lat   from_lng  \\\n",
       "0            204         5883     3         204  59.938982  30.327281   \n",
       "1            204      4564617     3         204  59.938982  30.327281   \n",
       "2            204      4589220     3         204  59.938982  30.327281   \n",
       "3            204      5363074     3         204  59.938982  30.327281   \n",
       "4            204      5439777     4         204  59.938982  30.327281   \n",
       "\n",
       "          from_x        from_y from_title  place_id_y     to_lat     to_lng  \\\n",
       "0  350674.468152  6.647631e+06     Акакао        5883  59.942385  30.335766   \n",
       "1  350674.468152  6.647631e+06     Акакао     4564617  59.931977  30.354621   \n",
       "2  350674.468152  6.647631e+06     Акакао     4589220  59.919343  30.350540   \n",
       "3  350674.468152  6.647631e+06     Акакао     5363074  59.981436  30.200782   \n",
       "4  350674.468152  6.647631e+06     Акакао     5439777  59.919336  30.464995   \n",
       "\n",
       "            to_x          to_y                      to_title  \n",
       "0  351163.612025  6.647991e+06                    Летний сад  \n",
       "1  352170.239136  6.646790e+06  Grizzly Bar Saint-Petersburg  \n",
       "2  351885.950880  6.645393e+06         МОДНЫЙ КЛУБ ГРИБОЕДОВ  \n",
       "3  343809.675592  6.652648e+06               Парк 300- летия  \n",
       "4  358282.229463  6.645141e+06                Ледовый дворец  "
      ]
     },
     "execution_count": 28,
     "metadata": {},
     "output_type": "execute_result"
    }
   ],
   "source": [
    "final_df.head()"
   ]
  },
  {
   "cell_type": "code",
   "execution_count": 31,
   "metadata": {},
   "outputs": [
    {
     "data": {
      "application/vnd.jupyter.widget-view+json": {
       "model_id": "22ccce15f349454d994c29ede5062616",
       "version_major": 2,
       "version_minor": 0
      },
      "text/plain": [
       "VBox(children=(HTML(value=''), IntProgress(value=1, bar_style='info', max=1)))"
      ]
     },
     "metadata": {},
     "output_type": "display_data"
    }
   ],
   "source": [
    "distance_list = []\n",
    "for row in log_progress(final_df.iterrows(),1):\n",
    "    data = row[1]\n",
    "    distance = math.sqrt((data['from_x']-data['to_x'])**2 + (data['from_y']-data['to_y'])**2)\n",
    "    distance_list.append(distance)"
   ]
  },
  {
   "cell_type": "code",
   "execution_count": 33,
   "metadata": {},
   "outputs": [],
   "source": [
    "final_df['distance'] = distance_list"
   ]
  },
  {
   "cell_type": "code",
   "execution_count": 35,
   "metadata": {},
   "outputs": [],
   "source": [
    "final_df.to_csv('livehoods_arc.csv')"
   ]
  },
  {
   "cell_type": "code",
   "execution_count": 16,
   "metadata": {},
   "outputs": [
    {
     "data": {
      "application/vnd.jupyter.widget-view+json": {
       "model_id": "c175e43528144e62ad9752e92f8ccb05",
       "version_major": 2,
       "version_minor": 0
      },
      "text/html": [
       "<p>Failed to display Jupyter Widget of type <code>VBox</code>.</p>\n",
       "<p>\n",
       "  If you're reading this message in Jupyter Notebook or JupyterLab, it may mean\n",
       "  that the widgets JavaScript is still loading. If this message persists, it\n",
       "  likely means that the widgets JavaScript library is either not installed or\n",
       "  not enabled. See the <a href=\"https://ipywidgets.readthedocs.io/en/stable/user_install.html\">Jupyter\n",
       "  Widgets Documentation</a> for setup instructions.\n",
       "</p>\n",
       "<p>\n",
       "  If you're reading this message in another notebook frontend (for example, a static\n",
       "  rendering on GitHub or <a href=\"https://nbviewer.jupyter.org/\">NBViewer</a>),\n",
       "  it may mean that your frontend doesn't currently support widgets.\n",
       "</p>\n"
      ],
      "text/plain": [
       "VBox(children=(HTML(value=''), IntProgress(value=1, bar_style='info', max=1)))"
      ]
     },
     "metadata": {},
     "output_type": "display_data"
    }
   ],
   "source": [
    "users = checkins.drop_duplicates('uid').reset_index()\n",
    "\n",
    "uid_index = {}\n",
    "for u in log_progress(users.iterrows(),100):\n",
    "    uid_index[u[1].uid] = u[0]"
   ]
  },
  {
   "cell_type": "code",
   "execution_count": null,
   "metadata": {},
   "outputs": [],
   "source": []
  },
  {
   "cell_type": "code",
   "execution_count": 17,
   "metadata": {},
   "outputs": [
    {
     "data": {
      "application/vnd.jupyter.widget-view+json": {
       "model_id": "a95b5c40c5de41648545b6e2ddcd7b1c",
       "version_major": 2,
       "version_minor": 0
      },
      "text/html": [
       "<p>Failed to display Jupyter Widget of type <code>VBox</code>.</p>\n",
       "<p>\n",
       "  If you're reading this message in Jupyter Notebook or JupyterLab, it may mean\n",
       "  that the widgets JavaScript is still loading. If this message persists, it\n",
       "  likely means that the widgets JavaScript library is either not installed or\n",
       "  not enabled. See the <a href=\"https://ipywidgets.readthedocs.io/en/stable/user_install.html\">Jupyter\n",
       "  Widgets Documentation</a> for setup instructions.\n",
       "</p>\n",
       "<p>\n",
       "  If you're reading this message in another notebook frontend (for example, a static\n",
       "  rendering on GitHub or <a href=\"https://nbviewer.jupyter.org/\">NBViewer</a>),\n",
       "  it may mean that your frontend doesn't currently support widgets.\n",
       "</p>\n"
      ],
      "text/plain": [
       "VBox(children=(HTML(value=''), IntProgress(value=1, bar_style='info', max=1)))"
      ]
     },
     "metadata": {},
     "output_type": "display_data"
    }
   ],
   "source": [
    "uniq_places = places.drop_duplicates('place_id').reset_index()\n",
    "\n",
    "place_index = {}\n",
    "for p in log_progress(uniq_places.iterrows(), 1000):\n",
    "    place_index[p[1].place_id] = p[0]"
   ]
  },
  {
   "cell_type": "code",
   "execution_count": 19,
   "metadata": {},
   "outputs": [
    {
     "data": {
      "application/vnd.jupyter.widget-view+json": {
       "model_id": "a241a4f510a645debb3f106fa466df6f",
       "version_major": 2,
       "version_minor": 0
      },
      "text/html": [
       "<p>Failed to display Jupyter Widget of type <code>VBox</code>.</p>\n",
       "<p>\n",
       "  If you're reading this message in Jupyter Notebook or JupyterLab, it may mean\n",
       "  that the widgets JavaScript is still loading. If this message persists, it\n",
       "  likely means that the widgets JavaScript library is either not installed or\n",
       "  not enabled. See the <a href=\"https://ipywidgets.readthedocs.io/en/stable/user_install.html\">Jupyter\n",
       "  Widgets Documentation</a> for setup instructions.\n",
       "</p>\n",
       "<p>\n",
       "  If you're reading this message in another notebook frontend (for example, a static\n",
       "  rendering on GitHub or <a href=\"https://nbviewer.jupyter.org/\">NBViewer</a>),\n",
       "  it may mean that your frontend doesn't currently support widgets.\n",
       "</p>\n"
      ],
      "text/plain": [
       "VBox(children=(HTML(value=''), IntProgress(value=1, bar_style='info', max=1)))"
      ]
     },
     "metadata": {},
     "output_type": "display_data"
    }
   ],
   "source": [
    "#place checkins matrix - \"bag_of_users\"\n",
    "checkins_with_pid = checkins.merge(places[['place_id','title']], how='inner', on='place_id')\n",
    "checkin_group_by_pid = checkins_with_pid.groupby(['place_id','uid'])['post_id'].count()\n",
    "                                  \n",
    "bag_of_users = scipy.sparse.lil_matrix((len(uniq_places), len(users)), dtype=int16)\n",
    "\n",
    "for g in log_progress(checkin_group_by_pid.iteritems(),100):\n",
    "    pid = g[0][0]\n",
    "    uid = g[0][1]\n",
    "    \n",
    "    local_pid = place_index[pid]\n",
    "    local_uid = uid_index[uid]\n",
    "    \n",
    "    bag_of_users[local_pid, local_uid] = g[1]"
   ]
  },
  {
   "cell_type": "code",
   "execution_count": 20,
   "metadata": {
    "collapsed": true
   },
   "outputs": [],
   "source": [
    "#kd-tree\n",
    "places_lat = uniq_places.xcoord.tolist();\n",
    "places_lng = uniq_places.ycoord.tolist();\n",
    "\n",
    "coords_list = []\n",
    "for i in range(0,len(places_lat)):\n",
    "    coords_list.append([places_lat[i], places_lng[i]])\n",
    "\n",
    "location = np.array(coords_list)\n",
    "\n",
    "tree = sklearn.neighbors.KDTree(location, leaf_size=2)"
   ]
  },
  {
   "cell_type": "code",
   "execution_count": 21,
   "metadata": {},
   "outputs": [
    {
     "data": {
      "application/vnd.jupyter.widget-view+json": {
       "model_id": "367ba65056e54ae3bd1deee39c4abc49",
       "version_major": 2,
       "version_minor": 0
      },
      "text/html": [
       "<p>Failed to display Jupyter Widget of type <code>VBox</code>.</p>\n",
       "<p>\n",
       "  If you're reading this message in Jupyter Notebook or JupyterLab, it may mean\n",
       "  that the widgets JavaScript is still loading. If this message persists, it\n",
       "  likely means that the widgets JavaScript library is either not installed or\n",
       "  not enabled. See the <a href=\"https://ipywidgets.readthedocs.io/en/stable/user_install.html\">Jupyter\n",
       "  Widgets Documentation</a> for setup instructions.\n",
       "</p>\n",
       "<p>\n",
       "  If you're reading this message in another notebook frontend (for example, a static\n",
       "  rendering on GitHub or <a href=\"https://nbviewer.jupyter.org/\">NBViewer</a>),\n",
       "  it may mean that your frontend doesn't currently support widgets.\n",
       "</p>\n"
      ],
      "text/plain": [
       "VBox(children=(HTML(value=''), IntProgress(value=0, max=6491)))"
      ]
     },
     "metadata": {},
     "output_type": "display_data"
    }
   ],
   "source": [
    "places_count = len(uniq_places)\n",
    "\n",
    "k_10_nearest_affinity_matrix = scipy.sparse.lil_matrix((places_count,places_count), dtype=float64)\n",
    "for j in log_progress(range(0, places_count), 10):\n",
    "    ind = tree.query([location[j]], k = 10, return_distance = False)\n",
    "    \n",
    "    for k in ind[0]:\n",
    "        if k != j:\n",
    "            social_distance = sklearn.metrics.pairwise.cosine_similarity(bag_of_users[j], bag_of_users[k]) + 0.001\n",
    "                \n",
    "            k_10_nearest_affinity_matrix[j,k] = social_distance"
   ]
  },
  {
   "cell_type": "code",
   "execution_count": 22,
   "metadata": {},
   "outputs": [
    {
     "data": {
      "application/vnd.jupyter.widget-view+json": {
       "model_id": "88732d89d7d54d4c9c08b56b835c51f1",
       "version_major": 2,
       "version_minor": 0
      },
      "text/html": [
       "<p>Failed to display Jupyter Widget of type <code>VBox</code>.</p>\n",
       "<p>\n",
       "  If you're reading this message in Jupyter Notebook or JupyterLab, it may mean\n",
       "  that the widgets JavaScript is still loading. If this message persists, it\n",
       "  likely means that the widgets JavaScript library is either not installed or\n",
       "  not enabled. See the <a href=\"https://ipywidgets.readthedocs.io/en/stable/user_install.html\">Jupyter\n",
       "  Widgets Documentation</a> for setup instructions.\n",
       "</p>\n",
       "<p>\n",
       "  If you're reading this message in another notebook frontend (for example, a static\n",
       "  rendering on GitHub or <a href=\"https://nbviewer.jupyter.org/\">NBViewer</a>),\n",
       "  it may mean that your frontend doesn't currently support widgets.\n",
       "</p>\n"
      ],
      "text/plain": [
       "VBox(children=(HTML(value=''), IntProgress(value=0, max=6491)))"
      ]
     },
     "metadata": {},
     "output_type": "display_data"
    }
   ],
   "source": [
    "in_500m_nearest_affinity_matrix = scipy.sparse.lil_matrix((places_count,places_count), dtype=float64)\n",
    "\n",
    "for j in log_progress(range(0, places_count),10):\n",
    "    \n",
    "    ind = tree.query_radius([location[j]], r=500)\n",
    "    \n",
    "    for k in ind[0]:\n",
    "        if k != j:\n",
    "            \n",
    "            social_distance = sklearn.metrics.pairwise.cosine_similarity(bag_of_users[j], bag_of_users[k]) + 0.001\n",
    "                \n",
    "            in_500m_nearest_affinity_matrix[j,k] = social_distance  "
   ]
  },
  {
   "cell_type": "code",
   "execution_count": 23,
   "metadata": {
    "collapsed": true
   },
   "outputs": [],
   "source": [
    "k_10_nearest_affinity_matrix_csc = k_10_nearest_affinity_matrix.tocsc()\n",
    "scipy.sparse.save_npz('k_10_nearest_affinity_matrix_csc.npz', k_10_nearest_affinity_matrix_csc)"
   ]
  },
  {
   "cell_type": "code",
   "execution_count": 28,
   "metadata": {},
   "outputs": [
    {
     "data": {
      "application/vnd.jupyter.widget-view+json": {
       "model_id": "95312949e57643ed9d55f39fba9cc4a0",
       "version_major": 2,
       "version_minor": 0
      },
      "text/html": [
       "<p>Failed to display Jupyter Widget of type <code>VBox</code>.</p>\n",
       "<p>\n",
       "  If you're reading this message in Jupyter Notebook or JupyterLab, it may mean\n",
       "  that the widgets JavaScript is still loading. If this message persists, it\n",
       "  likely means that the widgets JavaScript library is either not installed or\n",
       "  not enabled. See the <a href=\"https://ipywidgets.readthedocs.io/en/stable/user_install.html\">Jupyter\n",
       "  Widgets Documentation</a> for setup instructions.\n",
       "</p>\n",
       "<p>\n",
       "  If you're reading this message in another notebook frontend (for example, a static\n",
       "  rendering on GitHub or <a href=\"https://nbviewer.jupyter.org/\">NBViewer</a>),\n",
       "  it may mean that your frontend doesn't currently support widgets.\n",
       "</p>\n"
      ],
      "text/plain": [
       "VBox(children=(HTML(value=''), IntProgress(value=0, max=6491)))"
      ]
     },
     "metadata": {},
     "output_type": "display_data"
    }
   ],
   "source": [
    "#similarity graph in geojson\n",
    "similarity = []\n",
    "\n",
    "affinity_matrix = k_10_nearest_affenity_matrix_csc\n",
    "\n",
    "for i in log_progress(range(0,  affenity_matrix.shape[0]),10):\n",
    "    #sim = {\"start_lat\":0.0, \"start_lng\":0.0, \"end_lat\":0.0, \"end_lng\":0.0, \"similarity\":0.0}\n",
    "    \n",
    "    nonzero_indexes = affinity_matrix[i].nonzero()[1]\n",
    "    start_venues = places.iloc[i]\n",
    "    for j in nonzero_indexes:\n",
    "        sim = {}\n",
    "        \n",
    "        end_venues = places.iloc[j]\n",
    "        \n",
    "        sim['start_lat'] = start_venues['latitude']\n",
    "        sim['start_lng'] = start_venues['longitude']\n",
    "        sim['start_place'] = start_venues['title']\n",
    "        sim['end_lat'] = end_venues['latitude']\n",
    "        sim['end_lng'] = end_venues['longitude']\n",
    "        sim['end_place'] = end_venues['title']\n",
    "        sim['similarity'] = affenity_matrix[i,j]\n",
    "        \n",
    "        similarity.append(sim)"
   ]
  },
  {
   "cell_type": "code",
   "execution_count": 29,
   "metadata": {
    "collapsed": true
   },
   "outputs": [],
   "source": [
    "gejson_schema = {\n",
    "    \"type\": \"FeatureCollection\",\n",
    "    \"name\": \"sim_test\",\n",
    "    \"crs\": { \"type\": \"name\", \"properties\": { \"name\": \"urn:ogc:def:crs:OGC:1.3:CRS84\" } },\n",
    "    \"features\": [\n",
    "    { \"type\": \"Feature\", \"properties\": { \"similarity\": e['similarity'], \"start_place\":e['start_place'], \"end_places\":e['end_place']}, \"geometry\": { \"type\": \"LineString\", \"coordinates\": [ [ e['start_lat'], e['start_lng'] ], [ e['end_lat'], e['end_lng']] ] } }\n",
    "    for e in similarity]\n",
    "}"
   ]
  },
  {
   "cell_type": "code",
   "execution_count": 30,
   "metadata": {
    "collapsed": true
   },
   "outputs": [],
   "source": [
    "import json\n",
    "with open('similarity_graph_join.geojson', 'w') as fp:\n",
    "    json.dump(gejson_schema, fp)"
   ]
  },
  {
   "cell_type": "code",
   "execution_count": 8,
   "metadata": {
    "collapsed": true
   },
   "outputs": [],
   "source": [
    "laplacian = scipy.sparse.csgraph.laplacian(affinity_matrix, normed=True)\n",
    "n_components = affinity_matrix.shape[0] - 1\n",
    "eigenvalues, eigenvectors = eigsh(-laplacian, k=n_components, which=\"LM\", sigma=1.0, maxiter=5000)\n",
    "\n",
    "eigenvalues = -eigenvalues[::-1]  # Reverse and sign inversion."
   ]
  },
  {
   "cell_type": "code",
   "execution_count": 42,
   "metadata": {},
   "outputs": [
    {
     "data": {
      "image/png": "[encoded data removed]",
      "text/plain": [
       "<Figure size 432x288 with 1 Axes>"
      ]
     },
     "metadata": {},
     "output_type": "display_data"
    }
   ],
   "source": [
    "plt.plot(eigenvalues, 'ro')\n",
    "plt.show()"
   ]
  },
  {
   "cell_type": "code",
   "execution_count": 29,
   "metadata": {
    "collapsed": true
   },
   "outputs": [],
   "source": [
    "eigngaps = []\n",
    "for i in range(0,len(eigenvalues)-1):\n",
    "    k = eigenvalues[i+1] - eigenvalues[i]\n",
    "    eigngaps.append((i,k))"
   ]
  },
  {
   "cell_type": "code",
   "execution_count": 41,
   "metadata": {},
   "outputs": [
    {
     "data": {
      "text/plain": [
       "[<matplotlib.lines.Line2D at 0x1fd94719438>]"
      ]
     },
     "execution_count": 41,
     "metadata": {},
     "output_type": "execute_result"
    },
    {
     "data": {
      "image/png": "[encoded data removed]",
      "text/plain": [
       "<Figure size 432x288 with 1 Axes>"
      ]
     },
     "metadata": {},
     "output_type": "display_data"
    }
   ],
   "source": [
    "plt.plot(list(map(lambda x: x[1], eigngaps)), 'ro')"
   ]
  },
  {
   "cell_type": "code",
   "execution_count": null,
   "metadata": {
    "collapsed": true
   },
   "outputs": [],
   "source": [
    "eigngaps.sort(key=lambda x: x[1])"
   ]
  },
  {
   "cell_type": "code",
   "execution_count": 7,
   "metadata": {},
   "outputs": [
    {
     "name": "stderr",
     "output_type": "stream",
     "text": [
      "C:\\Users\\Artem\\Anaconda3\\lib\\site-packages\\sklearn\\utils\\validation.py:640: UserWarning: Array is not symmetric, and will be converted to symmetric by average with its transpose.\n",
      "  warnings.warn(\"Array is not symmetric, and will be converted \"\n"
     ]
    }
   ],
   "source": [
    "# 0 ,1, 2, 4, 9, 17, 18, 22, 28, 44, 152, 270\n",
    "k_list = [2, 4, 9, 17, 18, 22, 28, 44, 152, 270]\n",
    "for k in k_list: \n",
    "    classter_method = sklearn.cluster.SpectralClustering(n_clusters=k, affinity='precomputed', assign_labels=\"kmeans\").fit(affinity_matrix)\n",
    "    labels = classter_method.labels_\n",
    "    places['labels'] = labels\n",
    "    places.to_csv('../Data/CleanData/labeled_places_k_{}.csv'.format(str(k)))"
   ]
  },
  {
   "cell_type": "code",
   "execution_count": null,
   "metadata": {
    "collapsed": true
   },
   "outputs": [],
   "source": []
  }
 ],
 "metadata": {
  "kernelspec": {
   "display_name": "Python 3",
   "language": "python",
   "name": "python3"
  },
  "language_info": {
   "codemirror_mode": {
    "name": "ipython",
    "version": 3
   },
   "file_extension": ".py",
   "mimetype": "text/x-python",
   "name": "python",
   "nbconvert_exporter": "python",
   "pygments_lexer": "ipython3",
   "version": "3.7.1"
  }
 },
 "nbformat": 4,
 "nbformat_minor": 2
}
