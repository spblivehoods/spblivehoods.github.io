{
 "cells": [
  {
   "cell_type": "code",
   "execution_count": 52,
   "metadata": {
    "collapsed": true
   },
   "outputs": [],
   "source": [
    "import pandas as pd\n",
    "import json\n",
    "import numpy as np\n",
    "import sklearn\n",
    "import scipy\n",
    "import sys\n",
    "import matplotlib.pyplot as plt\n",
    "from pylab import *\n",
    "from sklearn.metrics.pairwise import cosine_similarity\n",
    "\n",
    "pd.set_option('display.max_columns', 500)"
   ]
  },
  {
   "cell_type": "code",
   "execution_count": 34,
   "metadata": {
    "collapsed": true
   },
   "outputs": [],
   "source": [
    "def log_progress(sequence, every=None, size=None):\n",
    "    from ipywidgets import IntProgress, HTML, VBox\n",
    "    from IPython.display import display\n",
    "    \n",
    "    is_iterator = False\n",
    "    if size is None:\n",
    "        try:\n",
    "            size = len(sequence)\n",
    "        except TypeError:\n",
    "            is_iterator = True\n",
    "    if size is not None:\n",
    "        if every is None:\n",
    "            if size <= 200:\n",
    "                every = 1\n",
    "            else:\n",
    "                every = size / 200     # every 0.5%\n",
    "    else:\n",
    "        assert every is not None, 'sequence is iterator, set every'\n",
    "\n",
    "    if is_iterator:\n",
    "        progress = IntProgress(min=0, max=1, value=1)\n",
    "        progress.bar_style = 'info'\n",
    "    else:\n",
    "        progress = IntProgress(min=0, max=size, value=0)\n",
    "    label = HTML()\n",
    "    box = VBox(children=[label, progress])\n",
    "    display(box)\n",
    "    \n",
    "    index = 0\n",
    "    try:\n",
    "        for index, record in enumerate(sequence, 1):\n",
    "            \n",
    "            if index == 1 or index % every == 0:\n",
    "                if is_iterator:\n",
    "                    label.value = '{index} / ?'.format(index=index)\n",
    "                else:\n",
    "                    progress.value = index\n",
    "                    label.value = u'{index} / {size}'.format(\n",
    "                        index=index,\n",
    "                        size=size\n",
    "                    )\n",
    "            yield record\n",
    "    except:\n",
    "        progress.bar_style = 'danger'\n",
    "        raise\n",
    "    else:\n",
    "        progress.bar_style = 'success'\n",
    "        progress.value = index\n",
    "        label.value = str(index or '?')"
   ]
  },
  {
   "cell_type": "code",
   "execution_count": 2,
   "metadata": {
    "collapsed": true
   },
   "outputs": [],
   "source": [
    "df_places = pd.read_csv(\"venues_pid.csv\")"
   ]
  },
  {
   "cell_type": "code",
   "execution_count": 11,
   "metadata": {},
   "outputs": [
    {
     "data": {
      "text/html": [
       "<div>\n",
       "<style>\n",
       "    .dataframe thead tr:only-child th {\n",
       "        text-align: right;\n",
       "    }\n",
       "\n",
       "    .dataframe thead th {\n",
       "        text-align: left;\n",
       "    }\n",
       "\n",
       "    .dataframe tbody tr th {\n",
       "        vertical-align: top;\n",
       "    }\n",
       "</style>\n",
       "<table border=\"1\" class=\"dataframe\">\n",
       "  <thead>\n",
       "    <tr style=\"text-align: right;\">\n",
       "      <th></th>\n",
       "      <th>title</th>\n",
       "      <th>label</th>\n",
       "      <th>color</th>\n",
       "      <th>labeled_places_22_02_pid</th>\n",
       "      <th>place_id</th>\n",
       "    </tr>\n",
       "  </thead>\n",
       "  <tbody>\n",
       "    <tr>\n",
       "      <th>0</th>\n",
       "      <td>Ул летчика пилютова 50</td>\n",
       "      <td>20</td>\n",
       "      <td>#66d743</td>\n",
       "      <td>7229933</td>\n",
       "      <td>7229933</td>\n",
       "    </tr>\n",
       "    <tr>\n",
       "      <th>1</th>\n",
       "      <td>Парк \"Сосновая поляна\"</td>\n",
       "      <td>20</td>\n",
       "      <td>#66d743</td>\n",
       "      <td>11659767</td>\n",
       "      <td>11659767</td>\n",
       "    </tr>\n",
       "    <tr>\n",
       "      <th>2</th>\n",
       "      <td>Рококо</td>\n",
       "      <td>20</td>\n",
       "      <td>#66d743</td>\n",
       "      <td>5913</td>\n",
       "      <td>5913</td>\n",
       "    </tr>\n",
       "    <tr>\n",
       "      <th>3</th>\n",
       "      <td>Ветеранов дом 149</td>\n",
       "      <td>20</td>\n",
       "      <td>#66d743</td>\n",
       "      <td>8102072</td>\n",
       "      <td>8102072</td>\n",
       "    </tr>\n",
       "    <tr>\n",
       "      <th>4</th>\n",
       "      <td>352 школа</td>\n",
       "      <td>20</td>\n",
       "      <td>#66d743</td>\n",
       "      <td>15959331</td>\n",
       "      <td>15959331</td>\n",
       "    </tr>\n",
       "  </tbody>\n",
       "</table>\n",
       "</div>"
      ],
      "text/plain": [
       "                    title  label    color  labeled_places_22_02_pid  place_id\n",
       "0  Ул летчика пилютова 50     20  #66d743                   7229933   7229933\n",
       "1  Парк \"Сосновая поляна\"     20  #66d743                  11659767  11659767\n",
       "2                  Рококо     20  #66d743                      5913      5913\n",
       "3       Ветеранов дом 149     20  #66d743                   8102072   8102072\n",
       "4               352 школа     20  #66d743                  15959331  15959331"
      ]
     },
     "execution_count": 11,
     "metadata": {},
     "output_type": "execute_result"
    }
   ],
   "source": [
    "df_places.head()"
   ]
  },
  {
   "cell_type": "code",
   "execution_count": 5,
   "metadata": {},
   "outputs": [],
   "source": [
    "df_checkins = pd.read_csv('all_checkins.csv', encoding='windows-1251')\n"
   ]
  },
  {
   "cell_type": "code",
   "execution_count": 10,
   "metadata": {},
   "outputs": [],
   "source": [
    "df_places = df_places.rename(index=str, columns={\"labeled_places_22_02_place_id\": \"place_id\"})"
   ]
  },
  {
   "cell_type": "code",
   "execution_count": 7,
   "metadata": {},
   "outputs": [
    {
     "data": {
      "text/html": [
       "<div>\n",
       "<style>\n",
       "    .dataframe thead tr:only-child th {\n",
       "        text-align: right;\n",
       "    }\n",
       "\n",
       "    .dataframe thead th {\n",
       "        text-align: left;\n",
       "    }\n",
       "\n",
       "    .dataframe tbody tr th {\n",
       "        vertical-align: top;\n",
       "    }\n",
       "</style>\n",
       "<table border=\"1\" class=\"dataframe\">\n",
       "  <thead>\n",
       "    <tr style=\"text-align: right;\">\n",
       "      <th></th>\n",
       "      <th>Unnamed: 0</th>\n",
       "      <th>date</th>\n",
       "      <th>id</th>\n",
       "      <th>latitude</th>\n",
       "      <th>longitude</th>\n",
       "      <th>place_id</th>\n",
       "      <th>post_id</th>\n",
       "      <th>text</th>\n",
       "      <th>uid</th>\n",
       "    </tr>\n",
       "  </thead>\n",
       "  <tbody>\n",
       "    <tr>\n",
       "      <th>0</th>\n",
       "      <td>0</td>\n",
       "      <td>1.521713e+09</td>\n",
       "      <td>7221770_15476</td>\n",
       "      <td>59.900162</td>\n",
       "      <td>30.401269</td>\n",
       "      <td>5960695</td>\n",
       "      <td>15476.0</td>\n",
       "      <td>NaN</td>\n",
       "      <td>7221770.0</td>\n",
       "    </tr>\n",
       "    <tr>\n",
       "      <th>1</th>\n",
       "      <td>1</td>\n",
       "      <td>1.514320e+09</td>\n",
       "      <td>27628212_952</td>\n",
       "      <td>59.900162</td>\n",
       "      <td>30.401269</td>\n",
       "      <td>5960695</td>\n",
       "      <td>952.0</td>\n",
       "      <td>Ах елки, елки, елочки......???</td>\n",
       "      <td>27628212.0</td>\n",
       "    </tr>\n",
       "    <tr>\n",
       "      <th>2</th>\n",
       "      <td>2</td>\n",
       "      <td>1.513158e+09</td>\n",
       "      <td>10530097_10655</td>\n",
       "      <td>59.900162</td>\n",
       "      <td>30.401269</td>\n",
       "      <td>5960695</td>\n",
       "      <td>10655.0</td>\n",
       "      <td>Первый раз за месяц вышло яркое солнце,и все п...</td>\n",
       "      <td>10530097.0</td>\n",
       "    </tr>\n",
       "    <tr>\n",
       "      <th>3</th>\n",
       "      <td>3</td>\n",
       "      <td>1.482679e+09</td>\n",
       "      <td>43545311_2993</td>\n",
       "      <td>59.900162</td>\n",
       "      <td>30.401269</td>\n",
       "      <td>5960695</td>\n",
       "      <td>2993.0</td>\n",
       "      <td>Недавольная я...потратила кучу денег к НГ)</td>\n",
       "      <td>43545311.0</td>\n",
       "    </tr>\n",
       "    <tr>\n",
       "      <th>4</th>\n",
       "      <td>4</td>\n",
       "      <td>1.477990e+09</td>\n",
       "      <td>5116443_7790</td>\n",
       "      <td>59.900162</td>\n",
       "      <td>30.401269</td>\n",
       "      <td>5960695</td>\n",
       "      <td>7790.0</td>\n",
       "      <td>Работаем???</td>\n",
       "      <td>5116443.0</td>\n",
       "    </tr>\n",
       "  </tbody>\n",
       "</table>\n",
       "</div>"
      ],
      "text/plain": [
       "   Unnamed: 0          date              id   latitude  longitude  place_id  \\\n",
       "0           0  1.521713e+09   7221770_15476  59.900162  30.401269   5960695   \n",
       "1           1  1.514320e+09    27628212_952  59.900162  30.401269   5960695   \n",
       "2           2  1.513158e+09  10530097_10655  59.900162  30.401269   5960695   \n",
       "3           3  1.482679e+09   43545311_2993  59.900162  30.401269   5960695   \n",
       "4           4  1.477990e+09    5116443_7790  59.900162  30.401269   5960695   \n",
       "\n",
       "   post_id                                               text         uid  \n",
       "0  15476.0                                                NaN   7221770.0  \n",
       "1    952.0                     Ах елки, елки, елочки......???  27628212.0  \n",
       "2  10655.0  Первый раз за месяц вышло яркое солнце,и все п...  10530097.0  \n",
       "3   2993.0         Недавольная я...потратила кучу денег к НГ)  43545311.0  \n",
       "4   7790.0                                        Работаем???   5116443.0  "
      ]
     },
     "execution_count": 7,
     "metadata": {},
     "output_type": "execute_result"
    }
   ],
   "source": [
    "df_checkins.head()"
   ]
  },
  {
   "cell_type": "code",
   "execution_count": 12,
   "metadata": {},
   "outputs": [],
   "source": [
    "df_checkins_label = pd.merge(df_checkins, df_places, on='place_id', how='inner')"
   ]
  },
  {
   "cell_type": "code",
   "execution_count": 20,
   "metadata": {},
   "outputs": [],
   "source": [
    "df_checkins_group_by_label = df_checkins_label.groupby(['label', 'uid'])['post_id'].count()"
   ]
  },
  {
   "cell_type": "code",
   "execution_count": 54,
   "metadata": {
    "collapsed": true
   },
   "outputs": [],
   "source": [
    "local_uid = {}\n",
    "\n",
    "local_id = 0\n",
    "for uid in df_checkins.drop_duplicates('uid').uid.tolist():\n",
    "    local_uid[uid] = local_id\n",
    "    local_id += 1"
   ]
  },
  {
   "cell_type": "code",
   "execution_count": 105,
   "metadata": {},
   "outputs": [],
   "source": [
    "df_label = df_checkins_label.groupby('label')"
   ]
  },
  {
   "cell_type": "code",
   "execution_count": 109,
   "metadata": {},
   "outputs": [
    {
     "ename": "KeyError",
     "evalue": "'Column not found: False'",
     "output_type": "error",
     "traceback": [
      "\u001b[1;31m---------------------------------------------------------------------------\u001b[0m",
      "\u001b[1;31mKeyError\u001b[0m                                  Traceback (most recent call last)",
      "\u001b[1;32m<ipython-input-109-b83a413ec83d>\u001b[0m in \u001b[0;36m<module>\u001b[1;34m()\u001b[0m\n\u001b[1;32m----> 1\u001b[1;33m \u001b[0mdf_label\u001b[0m\u001b[1;33m[\u001b[0m\u001b[0mdf_label\u001b[0m\u001b[1;33m.\u001b[0m\u001b[0mlabel\u001b[0m \u001b[1;33m==\u001b[0m \u001b[1;36m0\u001b[0m\u001b[1;33m]\u001b[0m\u001b[1;33m\u001b[0m\u001b[0m\n\u001b[0m",
      "\u001b[1;32mC:\\Users\\Artem\\Anaconda3\\lib\\site-packages\\pandas\\core\\base.py\u001b[0m in \u001b[0;36m__getitem__\u001b[1;34m(self, key)\u001b[0m\n\u001b[0;32m    352\u001b[0m         \u001b[1;32melse\u001b[0m\u001b[1;33m:\u001b[0m\u001b[1;33m\u001b[0m\u001b[0m\n\u001b[0;32m    353\u001b[0m             \u001b[1;32mif\u001b[0m \u001b[0mkey\u001b[0m \u001b[1;32mnot\u001b[0m \u001b[1;32min\u001b[0m \u001b[0mself\u001b[0m\u001b[1;33m.\u001b[0m\u001b[0mobj\u001b[0m\u001b[1;33m:\u001b[0m\u001b[1;33m\u001b[0m\u001b[0m\n\u001b[1;32m--> 354\u001b[1;33m                 \u001b[1;32mraise\u001b[0m \u001b[0mKeyError\u001b[0m\u001b[1;33m(\u001b[0m\u001b[1;34m\"Column not found: %s\"\u001b[0m \u001b[1;33m%\u001b[0m \u001b[0mkey\u001b[0m\u001b[1;33m)\u001b[0m\u001b[1;33m\u001b[0m\u001b[0m\n\u001b[0m\u001b[0;32m    355\u001b[0m             \u001b[1;32mreturn\u001b[0m \u001b[0mself\u001b[0m\u001b[1;33m.\u001b[0m\u001b[0m_gotitem\u001b[0m\u001b[1;33m(\u001b[0m\u001b[0mkey\u001b[0m\u001b[1;33m,\u001b[0m \u001b[0mndim\u001b[0m\u001b[1;33m=\u001b[0m\u001b[1;36m1\u001b[0m\u001b[1;33m)\u001b[0m\u001b[1;33m\u001b[0m\u001b[0m\n\u001b[0;32m    356\u001b[0m \u001b[1;33m\u001b[0m\u001b[0m\n",
      "\u001b[1;31mKeyError\u001b[0m: 'Column not found: False'"
     ]
    }
   ],
   "source": []
  },
  {
   "cell_type": "code",
   "execution_count": 59,
   "metadata": {},
   "outputs": [
    {
     "data": {
      "application/vnd.jupyter.widget-view+json": {
       "model_id": "9c107e8240944830b640c163af3c2fa3",
       "version_major": 2,
       "version_minor": 0
      },
      "text/html": [
       "<p>Failed to display Jupyter Widget of type <code>VBox</code>.</p>\n",
       "<p>\n",
       "  If you're reading this message in Jupyter Notebook or JupyterLab, it may mean\n",
       "  that the widgets JavaScript is still loading. If this message persists, it\n",
       "  likely means that the widgets JavaScript library is either not installed or\n",
       "  not enabled. See the <a href=\"https://ipywidgets.readthedocs.io/en/stable/user_install.html\">Jupyter\n",
       "  Widgets Documentation</a> for setup instructions.\n",
       "</p>\n",
       "<p>\n",
       "  If you're reading this message in another notebook frontend (for example, a static\n",
       "  rendering on GitHub or <a href=\"https://nbviewer.jupyter.org/\">NBViewer</a>),\n",
       "  it may mean that your frontend doesn't currently support widgets.\n",
       "</p>\n"
      ],
      "text/plain": [
       "VBox(children=(HTML(value=''), IntProgress(value=1, bar_style='info', max=1)))"
      ]
     },
     "metadata": {},
     "output_type": "display_data"
    }
   ],
   "source": [
    "#len(df_places.label.value_counts())\n",
    "\n",
    "bag_of_users = scipy.sparse.lil_matrix((df_places.label.max() + 1, len(local_uid)), dtype=int16)\n",
    "\n",
    "for g in log_progress(df_checkins_group_by_label.iteritems(),100):\n",
    "    label = g[0][0]\n",
    "    uid = g[0][1]\n",
    "    \n",
    "    local_id = local_uid[uid]\n",
    "    \n",
    "    bag_of_users[label, local_id] = g[1]"
   ]
  },
  {
   "cell_type": "code",
   "execution_count": 94,
   "metadata": {},
   "outputs": [
    {
     "data": {
      "text/plain": [
       "uid\n",
       "60533.0        1\n",
       "61203.0        2\n",
       "84299.0        2\n",
       "85398.0        2\n",
       "89444.0        2\n",
       "142949.0       3\n",
       "213739.0       3\n",
       "217288.0       2\n",
       "289196.0       2\n",
       "753388.0       1\n",
       "891507.0       4\n",
       "953687.0       1\n",
       "1281061.0      2\n",
       "1316853.0      1\n",
       "1346381.0      3\n",
       "1768480.0      2\n",
       "2404492.0      1\n",
       "2518903.0      1\n",
       "2583196.0      1\n",
       "2600707.0      2\n",
       "3052039.0      1\n",
       "3493107.0      1\n",
       "4670083.0      2\n",
       "5093998.0      1\n",
       "5984234.0      3\n",
       "6271460.0      1\n",
       "7355310.0      1\n",
       "8532522.0      1\n",
       "11516023.0     1\n",
       "12080115.0     2\n",
       "14842609.0     2\n",
       "15116677.0     1\n",
       "19277976.0     1\n",
       "22341569.0     2\n",
       "24935284.0     1\n",
       "42752769.0     3\n",
       "49569322.0     1\n",
       "52779276.0     1\n",
       "53182568.0     1\n",
       "68765597.0     1\n",
       "72099011.0     1\n",
       "89147687.0     1\n",
       "91373504.0     1\n",
       "122338958.0    1\n",
       "139307171.0    1\n",
       "144215710.0    3\n",
       "151929207.0    1\n",
       "163046980.0    1\n",
       "218005412.0    2\n",
       "265032367.0    1\n",
       "398885244.0    1\n",
       "449572060.0    1\n",
       "Name: post_id, dtype: int64"
      ]
     },
     "execution_count": 94,
     "metadata": {},
     "output_type": "execute_result"
    }
   ],
   "source": [
    "df_checkins_group_by_label[0]"
   ]
  },
  {
   "cell_type": "code",
   "execution_count": 63,
   "metadata": {},
   "outputs": [
    {
     "data": {
      "text/plain": [
       "array([[ 0.81226687]])"
      ]
     },
     "execution_count": 63,
     "metadata": {},
     "output_type": "execute_result"
    }
   ],
   "source": [
    "cosine_similarity(bag_of_users[4],bag_of_users[1])"
   ]
  },
  {
   "cell_type": "code",
   "execution_count": 84,
   "metadata": {},
   "outputs": [],
   "source": [
    "cosine_similarity_dict = {}\n",
    "\n",
    "for j in range(bag_of_users.shape[0]):\n",
    "    j_cos_sim = []\n",
    "    for k in range(bag_of_users.shape[0]):\n",
    "        j_cos_sim.append(cosine_similarity(bag_of_users[j], bag_of_users[k])[0][0])\n",
    "        \n",
    "    cosine_similarity_dict[j] = j_cos_sim"
   ]
  },
  {
   "cell_type": "code",
   "execution_count": 95,
   "metadata": {},
   "outputs": [
    {
     "data": {
      "text/plain": [
       "[0.99999999999999989,\n",
       " 0.8122668690159931,\n",
       " 0.0,\n",
       " 0.53476583575360637,\n",
       " 0.99999999999999989,\n",
       " 0.0014168214973118494,\n",
       " 0.0,\n",
       " 0.0,\n",
       " 0.99999999999999989,\n",
       " 0.0021950660214931248,\n",
       " 0.072758204026122847,\n",
       " 0.15864527468697756,\n",
       " 0.57384270966315398,\n",
       " 0.0013961296876320022,\n",
       " 0.0,\n",
       " 0.0021771882667400017,\n",
       " 0.0,\n",
       " 0.00080783983558514445,\n",
       " 0.0088133952592079241,\n",
       " 0.0,\n",
       " 0.0,\n",
       " 0.0091209929653442521,\n",
       " 0.084449221201817484,\n",
       " 0.00028067221287936169,\n",
       " 0.99999999999999989,\n",
       " 0.0047609871997293827,\n",
       " 0.0,\n",
       " 0.0,\n",
       " 0.0,\n",
       " 0.0,\n",
       " 0.0,\n",
       " 0.0,\n",
       " 0.0,\n",
       " 0.0,\n",
       " 0.0088133952592079241,\n",
       " 0.0,\n",
       " 0.0,\n",
       " 0.0,\n",
       " 0.0,\n",
       " 0.0039045238265924273,\n",
       " 0.0088133952592079241,\n",
       " 0.0,\n",
       " 0.0088133952592079241,\n",
       " 0.001128073212910448,\n",
       " 0.0,\n",
       " 0.0,\n",
       " 0.047298433430602721,\n",
       " 0.0028782040722587238,\n",
       " 0.0,\n",
       " 0.0,\n",
       " 0.0088133952592079259,\n",
       " 0.0088133952592079241,\n",
       " 0.00046423944601158641,\n",
       " 0.0,\n",
       " 0.0,\n",
       " 0.014146358057624127,\n",
       " 0.0,\n",
       " 0.01615341810776005,\n",
       " 0.0020396825407745845,\n",
       " 0.0071052879673992216,\n",
       " 0.001388331535706796,\n",
       " 0.7456314952219788,\n",
       " 0.0,\n",
       " 0.0088133952592079241,\n",
       " 0.0,\n",
       " 0.0,\n",
       " 0.00043682451925561441,\n",
       " 0.088806757705917255,\n",
       " 0.0,\n",
       " 0.0]"
      ]
     },
     "execution_count": 95,
     "metadata": {},
     "output_type": "execute_result"
    }
   ],
   "source": []
  },
  {
   "cell_type": "code",
   "execution_count": 86,
   "metadata": {},
   "outputs": [
    {
     "data": {
      "text/plain": [
       "array([[ 1.]])"
      ]
     },
     "execution_count": 86,
     "metadata": {},
     "output_type": "execute_result"
    }
   ],
   "source": [
    "cosine_similarity(bag_of_users[0], bag_of_users[4])"
   ]
  },
  {
   "cell_type": "code",
   "execution_count": 88,
   "metadata": {},
   "outputs": [
    {
     "data": {
      "text/plain": [
       "(array([0, 0, 0, 0, 0, 0, 0, 0, 0, 0, 0, 0, 0, 0, 0, 0, 0, 0, 0, 0, 0, 0, 0,\n",
       "        0, 0, 0, 0, 0, 0, 0, 0, 0, 0, 0, 0, 0, 0, 0, 0, 0, 0, 0, 0, 0, 0, 0,\n",
       "        0, 0, 0, 0, 0, 0], dtype=int32),\n",
       " array([ 1970,  2395,  2574,  2825,  4044,  4204,  5806,  7141,  7388,\n",
       "         7835,  7936,  9047,  9502,  9535,  9999, 10000, 10001, 10002,\n",
       "        10003, 10004, 10005, 10006, 10007, 10008, 10009, 10010, 10011,\n",
       "        10012, 10013, 10014, 10015, 10016, 10017, 10018, 10019, 10020,\n",
       "        10021, 10022, 10023, 10024, 10025, 10026, 10027, 10028, 10029,\n",
       "        10030, 10031, 10032, 10033, 10034, 10035, 10036], dtype=int32))"
      ]
     },
     "execution_count": 88,
     "metadata": {},
     "output_type": "execute_result"
    }
   ],
   "source": [
    "bag_of_users[0].nonzero()"
   ]
  },
  {
   "cell_type": "code",
   "execution_count": 89,
   "metadata": {},
   "outputs": [
    {
     "data": {
      "text/plain": [
       "(array([0, 0, 0, 0, 0, 0, 0, 0, 0, 0, 0, 0, 0, 0, 0, 0, 0, 0, 0, 0, 0, 0, 0,\n",
       "        0, 0, 0, 0, 0, 0, 0, 0, 0, 0, 0, 0, 0, 0, 0, 0, 0, 0, 0, 0, 0, 0, 0,\n",
       "        0, 0, 0, 0, 0, 0], dtype=int32),\n",
       " array([ 1970,  2395,  2574,  2825,  4044,  4204,  5806,  7141,  7388,\n",
       "         7835,  7936,  9047,  9502,  9535,  9999, 10000, 10001, 10002,\n",
       "        10003, 10004, 10005, 10006, 10007, 10008, 10009, 10010, 10011,\n",
       "        10012, 10013, 10014, 10015, 10016, 10017, 10018, 10019, 10020,\n",
       "        10021, 10022, 10023, 10024, 10025, 10026, 10027, 10028, 10029,\n",
       "        10030, 10031, 10032, 10033, 10034, 10035, 10036], dtype=int32))"
      ]
     },
     "execution_count": 89,
     "metadata": {},
     "output_type": "execute_result"
    }
   ],
   "source": [
    "bag_of_users[4].nonzero()"
   ]
  },
  {
   "cell_type": "code",
   "execution_count": 110,
   "metadata": {
    "collapsed": true
   },
   "outputs": [],
   "source": [
    "with open('clasters_sim.json', 'w') as out_file:\n",
    "    json.dump(cosine_similarity_dict, out_file)"
   ]
  },
  {
   "cell_type": "code",
   "execution_count": null,
   "metadata": {
    "collapsed": true
   },
   "outputs": [],
   "source": []
  }
 ],
 "metadata": {
  "kernelspec": {
   "display_name": "Python 3",
   "language": "python",
   "name": "python3"
  },
  "language_info": {
   "codemirror_mode": {
    "name": "ipython",
    "version": 3
   },
   "file_extension": ".py",
   "mimetype": "text/x-python",
   "name": "python",
   "nbconvert_exporter": "python",
   "pygments_lexer": "ipython3",
   "version": "3.6.1"
  }
 },
 "nbformat": 4,
 "nbformat_minor": 2
}
