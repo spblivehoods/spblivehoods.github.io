{
 "cells": [
  {
   "cell_type": "code",
   "execution_count": 11,
   "metadata": {},
   "outputs": [],
   "source": [
    "import pandas as pd\n",
    "import json\n",
    "import xml.etree.ElementTree as ET"
   ]
  },
  {
   "cell_type": "code",
   "execution_count": 12,
   "metadata": {},
   "outputs": [],
   "source": [
    "with open('../new_data/venues.geojson', 'r', encoding='utf-8') as input_geojson:\n",
    "    geojson = json.load(input_geojson)"
   ]
  },
  {
   "cell_type": "code",
   "execution_count": 13,
   "metadata": {},
   "outputs": [],
   "source": [
    "#reed xml\n",
    "ns = {'sld': 'http://www.opengis.net/sld',\n",
    "     'se': 'http://www.opengis.net/se'}\n",
    "\n",
    "tree = ET.parse('../new_data/venues_style.sld')\n",
    "root = tree.getroot()\n",
    "\n",
    "named_layer = root.find('sld:NamedLayer', ns)\n",
    "user_style = named_layer.find('sld:UserStyle', ns)\n",
    "style = user_style.find('se:FeatureTypeStyle', ns)\n",
    "\n",
    "rules = style.findall('se:Rule', ns)"
   ]
  },
  {
   "cell_type": "code",
   "execution_count": 14,
   "metadata": {},
   "outputs": [],
   "source": [
    "label_color_dict = {}\n",
    "\n",
    "for rule in rules:\n",
    "    label = rule.find('se:Name',ns).text\n",
    "    color = rule.find('se:PointSymbolizer', ns).find('se:Graphic',ns).find('se:Mark',ns).find('se:Fill', ns).find('se:SvgParameter',ns).text\n",
    "    \n",
    "    label_color_dict[label] = color"
   ]
  },
  {
   "cell_type": "code",
   "execution_count": 15,
   "metadata": {},
   "outputs": [],
   "source": [
    "for feature in geojson['features']:\n",
    "    label = feature['properties']['label']\n",
    "    color = label_color_dict[str(label)]\n",
    "    \n",
    "    feature['properties']['color'] = color"
   ]
  },
  {
   "cell_type": "code",
   "execution_count": 16,
   "metadata": {},
   "outputs": [
    {
     "data": {
      "text/plain": [
       "{'type': 'Feature',\n",
       " 'properties': {'label': 19,\n",
       "  'url': 'https://www.google.com/maps/place/?q=place_id:ChIJ--3kxxoxlkYRzqdxgDlq2to',\n",
       "  'address': 'Большая Морская ул., 45, Санкт-Петербург, 190000',\n",
       "  'category': 'Ресторан',\n",
       "  'title': 'Тепло',\n",
       "  'color': '#3de287'},\n",
       " 'geometry': {'type': 'Point', 'coordinates': [30.30535, 59.93201]}}"
      ]
     },
     "execution_count": 16,
     "metadata": {},
     "output_type": "execute_result"
    }
   ],
   "source": [
    "geojson['features'][0]"
   ]
  },
  {
   "cell_type": "code",
   "execution_count": 17,
   "metadata": {},
   "outputs": [],
   "source": [
    "with open('../new_data/venues.geojson', 'w') as out_geojson:\n",
    "    json.dump(geojson, out_geojson)"
   ]
  },
  {
   "cell_type": "code",
   "execution_count": null,
   "metadata": {
    "collapsed": true
   },
   "outputs": [],
   "source": []
  }
 ],
 "metadata": {
  "kernelspec": {
   "display_name": "Python 3",
   "language": "python",
   "name": "python3"
  },
  "language_info": {
   "codemirror_mode": {
    "name": "ipython",
    "version": 3
   },
   "file_extension": ".py",
   "mimetype": "text/x-python",
   "name": "python",
   "nbconvert_exporter": "python",
   "pygments_lexer": "ipython3",
   "version": "3.7.1"
  }
 },
 "nbformat": 4,
 "nbformat_minor": 2
}
