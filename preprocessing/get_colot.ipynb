{
 "cells": [
  {
   "cell_type": "code",
   "execution_count": 9,
   "metadata": {
    "collapsed": true
   },
   "outputs": [],
   "source": [
    "import pandas as pd\n",
    "import json\n",
    "import xml.etree.ElementTree as ET"
   ]
  },
  {
   "cell_type": "code",
   "execution_count": 10,
   "metadata": {},
   "outputs": [],
   "source": [
    "with open('venues_quallab_alg.geojson', 'r', encoding='utf-8') as input_geojson:\n",
    "    geojson = json.load(input_geojson)"
   ]
  },
  {
   "cell_type": "code",
   "execution_count": 22,
   "metadata": {},
   "outputs": [],
   "source": [
    "#reed xml\n",
    "ns = {'sld': 'http://www.opengis.net/sld',\n",
    "     'se': 'http://www.opengis.net/se'}\n",
    "\n",
    "tree = ET.parse('venues_new_alg.sld')\n",
    "root = tree.getroot()\n",
    "\n",
    "named_layer = root.find('sld:NamedLayer', ns)\n",
    "user_style = named_layer.find('sld:UserStyle', ns)\n",
    "style = user_style.find('se:FeatureTypeStyle', ns)\n",
    "\n",
    "rules = style.findall('se:Rule', ns)"
   ]
  },
  {
   "cell_type": "code",
   "execution_count": 36,
   "metadata": {},
   "outputs": [],
   "source": [
    "label_color_dict = {}\n",
    "\n",
    "for rule in rules:\n",
    "    label = rule.find('se:Name',ns).text\n",
    "    color = rule.find('se:PointSymbolizer', ns).find('se:Graphic',ns).find('se:Mark',ns).find('se:Fill', ns).find('se:SvgParameter',ns).text\n",
    "    \n",
    "    label_color_dict[label] = color"
   ]
  },
  {
   "cell_type": "code",
   "execution_count": 45,
   "metadata": {},
   "outputs": [],
   "source": [
    "for feature in geojson['features']:\n",
    "    label = feature['properties']['labels']\n",
    "    color = label_color_dict[str(label)]\n",
    "    \n",
    "    feature['properties']['color'] = color"
   ]
  },
  {
   "cell_type": "code",
   "execution_count": 46,
   "metadata": {},
   "outputs": [
    {
     "data": {
      "text/plain": [
       "{'geometry': {'coordinates': [30.334607, 59.92005], 'type': 'Point'},\n",
       " 'properties': {'address': 'Пионерская пл 1, ТЮЗ',\n",
       "  'checkins': 429,\n",
       "  'color': '#66c2a5',\n",
       "  'field_1': 2510,\n",
       "  'group_id': 189897.0,\n",
       "  'id': '4e785306b0fb305db5c811bc',\n",
       "  'labels': 0,\n",
       "  'lat': 30.334607,\n",
       "  'lng': 59.92005,\n",
       "  'main_categorie': 'Arts & Entertainment',\n",
       "  'place_id': 2368749,\n",
       "  'stats': {'checkinsCount': 11857, 'tipCount': 79, 'usersCount': 7216},\n",
       "  'title': 'Театр Юных Зрителей им. А.А. Брянцева // ТЮЗ'},\n",
       " 'type': 'Feature'}"
      ]
     },
     "execution_count": 46,
     "metadata": {},
     "output_type": "execute_result"
    }
   ],
   "source": [
    "geojson['features'][0]"
   ]
  },
  {
   "cell_type": "code",
   "execution_count": 48,
   "metadata": {},
   "outputs": [],
   "source": [
    "with open('new_alg_venues.geojson', 'w') as out_geojson:\n",
    "    json.dump(geojson, out_geojson)"
   ]
  },
  {
   "cell_type": "code",
   "execution_count": null,
   "metadata": {
    "collapsed": true
   },
   "outputs": [],
   "source": []
  }
 ],
 "metadata": {
  "kernelspec": {
   "display_name": "Python 3",
   "language": "python",
   "name": "python3"
  },
  "language_info": {
   "codemirror_mode": {
    "name": "ipython",
    "version": 3
   },
   "file_extension": ".py",
   "mimetype": "text/x-python",
   "name": "python",
   "nbconvert_exporter": "python",
   "pygments_lexer": "ipython3",
   "version": "3.6.1"
  }
 },
 "nbformat": 4,
 "nbformat_minor": 2
}
